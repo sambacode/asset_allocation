{
 "cells": [
  {
   "cell_type": "code",
   "execution_count": 2,
   "metadata": {},
   "outputs": [],
   "source": [
    "import pandas as pd\n",
    "import numpy as np\n",
    "import logging\n",
    "from pathlib import Path\n",
    "from typing import Literal, Optional\n",
    "\n",
    "import pandas as pd\n",
    "from entities import EM_CDS_TRACKER_DICT, FX_TRACKER_DICT\n",
    "from utils import Backtest, load_trackers, clean_stale_prices\n",
    "from pathlib import Path\n",
    "from aamalha.utils.performance import Performance"
   ]
  },
  {
   "cell_type": "markdown",
   "metadata": {},
   "source": [
    "# Trackers Statistics"
   ]
  },
  {
   "cell_type": "code",
   "execution_count": null,
   "metadata": {},
   "outputs": [],
   "source": [
    "fx = load_trackers(FX_TRACKER_DICT).rename(columns=lambda col: col + \"_fx\")\n",
    "cds = load_trackers(EM_CDS_TRACKER_DICT).rename(columns=lambda col: col + \"_cds\")\n",
    "\n",
    "trackers = pd.concat(\n",
    "    [fx, cds],\n",
    "    axis=1,\n",
    ").fillna(method=\"ffill\")\n",
    "trackers = pd.concat(\n",
    "    [clean_stale_prices(trackers[col].copy()) for col in trackers], axis=1\n",
    ")\n",
    "trackers"
   ]
  },
  {
   "cell_type": "code",
   "execution_count": 26,
   "metadata": {},
   "outputs": [],
   "source": [
    "perf_trackers = Performance(trackers)"
   ]
  },
  {
   "cell_type": "code",
   "execution_count": 33,
   "metadata": {},
   "outputs": [],
   "source": [
    "df_perf = perf_trackers.table.T.copy()\n",
    "DICT_COLS = {\n",
    "    \"Return\": \"Retorno\",\n",
    "    \"Vol\": \"Volatilidade\",\n",
    "    \"Skew\": \"Assimetria\",\n",
    "    \"Kurt\": \"Curtose\",\n",
    "    \"Sharpe\": \"Sharpe\",\n",
    "    \"Sortino\": \"Sortino\",\n",
    "    \"DD 1%q\": \"DD (1%)\",\n",
    "    \"Max DD\": \"Max DD\",\n",
    "    \"Start Date\": \"Início\",\n",
    "}\n",
    "df_perf.rename(\n",
    "    columns=DICT_COLS, index=lambda idx: f\"{idx[:3]} ({idx[4:].upper()})\"\n",
    ").to_clipboard()"
   ]
  },
  {
   "cell_type": "code",
   "execution_count": 48,
   "metadata": {},
   "outputs": [],
   "source": [
    "DICT_COLS = {\n",
    "    \"count\": \"N obs\",\n",
    "    \"mean\": \"Média\",\n",
    "    \"std\": \"DP\",\n",
    "    \"min\": \"Min\",\n",
    "    \"max\": \"Max\",\n",
    "}\n",
    "trackers_rolling_sharpe = perf_trackers.rolling_sharpe.describe().T\n",
    "trackers_rolling_sharpe[\"Início\"] = perf_trackers.rolling_sharpe.apply(\n",
    "    lambda col: col.first_valid_index()\n",
    ")\n",
    "trackers_rolling_sharpe.rename(\n",
    "    columns=DICT_COLS, index=lambda idx: f\"{idx[:3]} ({idx[4:].upper()})\"\n",
    ").to_clipboard()"
   ]
  },
  {
   "cell_type": "markdown",
   "metadata": {},
   "source": [
    "# Backtests"
   ]
  },
  {
   "cell_type": "code",
   "execution_count": null,
   "metadata": {},
   "outputs": [],
   "source": [
    "Path(\n",
    "    r\"C:\\Users\\pcampos\\OneDrive - Insper - Instituto de Ensino e Pesquisa/Dissertação Mestrado/Analysis/backtests/VALUE-FX-PAIRED-1.xlsx\"\n",
    ").is_file()"
   ]
  },
  {
   "cell_type": "code",
   "execution_count": null,
   "metadata": {},
   "outputs": [],
   "source": [
    "FOLDER = Path(\n",
    "    \"C:/Users/pcampos/OneDrive - Insper - Instituto de Ensino e Pesquisa/Dissertação Mestrado/Analysis/backtests\"\n",
    ")\n",
    "list_series = []\n",
    "for file_path in FOLDER.glob(\"*PAIRED-*.xlsx\"):\n",
    "    file_path.is_file()\n",
    "    s_backtest = pd.read_excel(file_path, index_col=0)[\"backtest\"]\n",
    "    s_backtest.name = file_path.stem\n",
    "    list_series.append(s_backtest)\n",
    "df_backtest = pd.concat(list_series, axis=1).sort_index(ascending=True)\n",
    "df_backtest"
   ]
  },
  {
   "cell_type": "markdown",
   "metadata": {},
   "source": [
    "# Estatísticas Descritivas dos  Trackers - Retornos Diários\t\t\t\t\t\t\t\t\t"
   ]
  },
  {
   "cell_type": "code",
   "execution_count": 36,
   "metadata": {},
   "outputs": [],
   "source": [
    "performance = Performance(df_backtest)"
   ]
  },
  {
   "cell_type": "code",
   "execution_count": 38,
   "metadata": {},
   "outputs": [],
   "source": [
    "df_perf = performance.table.T.copy()\n",
    "DICT_COLS = {\n",
    "    \"Return\": \"Retorno\",\n",
    "    \"Vol\": \"Volatilidade\",\n",
    "    \"Skew\": \"Assimetria\",\n",
    "    \"Kurt\": \"Curtose\",\n",
    "    \"Sharpe\": \"Sharpe\",\n",
    "    \"Sortino\": \"Sortino\",\n",
    "    \"DD 1%q\": \"DD (1%)\",\n",
    "    \"Max DD\": \"Max DD\",\n",
    "    \"Start Date\": \"Início\",\n",
    "}\n",
    "df_perf.rename(columns=DICT_COLS).to_clipboard()"
   ]
  },
  {
   "cell_type": "markdown",
   "metadata": {},
   "source": [
    "# Estatísticas Descritivas dos Portfólios - Sharpe Média Móvel 1 Ano\t\t\t\t\t\t\t\t\t\t\t\t\t\t"
   ]
  },
  {
   "cell_type": "code",
   "execution_count": null,
   "metadata": {},
   "outputs": [],
   "source": [
    "performance.rolling_sharpe.describe().index"
   ]
  },
  {
   "cell_type": "code",
   "execution_count": 36,
   "metadata": {},
   "outputs": [
    {
     "ename": "NameError",
     "evalue": "name 'performance' is not defined",
     "output_type": "error",
     "traceback": [
      "\u001b[1;31m---------------------------------------------------------------------------\u001b[0m",
      "\u001b[1;31mNameError\u001b[0m                                 Traceback (most recent call last)",
      "Cell \u001b[1;32mIn[36], line 8\u001b[0m\n\u001b[0;32m      1\u001b[0m DICT_COLS \u001b[38;5;241m=\u001b[39m {\n\u001b[0;32m      2\u001b[0m     \u001b[38;5;124m\"\u001b[39m\u001b[38;5;124mcount\u001b[39m\u001b[38;5;124m\"\u001b[39m: \u001b[38;5;124m\"\u001b[39m\u001b[38;5;124mN obs\u001b[39m\u001b[38;5;124m\"\u001b[39m,\n\u001b[0;32m      3\u001b[0m     \u001b[38;5;124m\"\u001b[39m\u001b[38;5;124mmean\u001b[39m\u001b[38;5;124m\"\u001b[39m: \u001b[38;5;124m\"\u001b[39m\u001b[38;5;124mMédia\u001b[39m\u001b[38;5;124m\"\u001b[39m,\n\u001b[1;32m   (...)\u001b[0m\n\u001b[0;32m      6\u001b[0m     \u001b[38;5;124m\"\u001b[39m\u001b[38;5;124mmax\u001b[39m\u001b[38;5;124m\"\u001b[39m: \u001b[38;5;124m\"\u001b[39m\u001b[38;5;124mMax\u001b[39m\u001b[38;5;124m\"\u001b[39m,\n\u001b[0;32m      7\u001b[0m }\n\u001b[1;32m----> 8\u001b[0m \u001b[43mperformance\u001b[49m\u001b[38;5;241m.\u001b[39mrolling_sharpe\u001b[38;5;241m.\u001b[39mdescribe()\u001b[38;5;241m.\u001b[39mT\u001b[38;5;241m.\u001b[39mrename(columns\u001b[38;5;241m=\u001b[39mDICT_COLS)\u001b[38;5;241m.\u001b[39mto_clipboard()\n",
      "\u001b[1;31mNameError\u001b[0m: name 'performance' is not defined"
     ]
    }
   ],
   "source": [
    "DICT_COLS = {\n",
    "    \"count\": \"N obs\",\n",
    "    \"mean\": \"Média\",\n",
    "    \"std\": \"DP\",\n",
    "    \"min\": \"Min\",\n",
    "    \"max\": \"Max\",\n",
    "}\n",
    "performance.rolling_sharpe.describe().T.rename(columns=DICT_COLS).to_clipboard()"
   ]
  },
  {
   "cell_type": "markdown",
   "metadata": {},
   "source": [
    "# old"
   ]
  },
  {
   "cell_type": "code",
   "execution_count": null,
   "metadata": {},
   "outputs": [],
   "source": [
    "data = df_backtest.copy()\n",
    "def export_latex_annual_returns(data: pd.DataFrame): \n",
    "    INDEX_NAME = \"Ano\"\n",
    "    COLUMN_NAME = \"Backtests\"\n",
    "    CAPTION = \"Retornos Anuais dos Backtests\"\n",
    "    SOURCE = \"Pedro Monzú, 2024\"\n",
    "    LABEL = \"annual_returns\"\n",
    "\n",
    "    output = (\n",
    "        \"\\\\begin{table}[htbp]\\n\"\n",
    "        \"\\t\\centering\\n\"\n",
    "        \"\\t\\caption{%s}\\n\"\n",
    "        \"\\n\\t%s\\n\"\n",
    "        \"\\t\\\\vspace{0.3cm}\\n\"\n",
    "        \"\\t\\label{tab:%s}\\n\"\n",
    "        \"\\t\\source{%s}\\n\"\n",
    "        \"\\end{table}\\n\"\n",
    "    )\n",
    "\n",
    "    df_year_returns = (\n",
    "        np.exp(np.log(data).diff(1).groupby(data.index.to_period(\"Y\")).sum()) - 1\n",
    "    )\n",
    "    df_year_returns.index.name = INDEX_NAME\n",
    "    df_year_returns.columns.name = COLUMN_NAME\n",
    "\n",
    "    formatted_df = df_year_returns.applymap(\n",
    "        lambda x: f\"({abs(x):.2%})\" if x < 0 else f\"{x:.2%}\"\n",
    "    )\n",
    "    formatted_df = formatted_df.replace(np.nan, \"-\")\n",
    "    latex_output = formatted_df.to_latex(\n",
    "        escape=False, column_format=\"c\" * (len(formatted_df.columns) + 1)\n",
    "    ).replace(\"%\", \"\\%\").replace(\"\\n\", \"\\n\\t\")\n",
    "    return output % (CAPTION, latex_output, LABEL, SOURCE)\n",
    "\n",
    "print(export_latex_annual_returns(data))"
   ]
  },
  {
   "cell_type": "code",
   "execution_count": 61,
   "metadata": {},
   "outputs": [],
   "source": [
    "performance = Performance(data)\n"
   ]
  },
  {
   "cell_type": "code",
   "execution_count": null,
   "metadata": {},
   "outputs": [],
   "source": []
  },
  {
   "cell_type": "code",
   "execution_count": null,
   "metadata": {},
   "outputs": [],
   "source": [
    "x = -1.2345\n",
    "precision = 7\n",
    "percentage = True\n",
    "parentheses = False\n",
    "formatted_string = f\"{'('if parentheses else '-'}{abs(x):.{precision}{'%' if percentage else 'f'}}{')'if parentheses else ''}\"\n",
    "formatted_string"
   ]
  },
  {
   "cell_type": "code",
   "execution_count": null,
   "metadata": {},
   "outputs": [],
   "source": [
    "x = np.nan\n",
    "x is np.nan"
   ]
  },
  {
   "cell_type": "code",
   "execution_count": 293,
   "metadata": {},
   "outputs": [],
   "source": [
    "def float_to_string(value: float, pattern: str) -> str:\n",
    "    # Parentheses\n",
    "    parentheses == pattern[0] == \"(\" and pattern[-1] == \")\"\n",
    "\n",
    "    # Decimals\n",
    "    match = re.search(r\"\\.(\\d+)\", pattern)\n",
    "    decimals = len(match.group(1)) if match else 0\n",
    "\n",
    "    # Percentage\n",
    "    percentage = format_pos[-1] == \"%\"\n",
    "\n",
    "    # Thousands Divisor\n",
    "    pattern_aux = pattern[: -1 if percentage else None]\n",
    "    match = re.search(r\"(\\,+)$\", pattern_aux)\n",
    "    divisor_thousands = len(match.group(1)) if match else 0\n",
    "\n",
    "    # Integer part\n",
    "    pattern_aux = pattern.split(\".\")[0].rstrip(\"%,\")\n",
    "    pos_last_zero = pattern_aux.rfind(\"0\")\n",
    "    integer_part = max(1, pattern_aux.count(\"0\"))\n",
    "\n",
    "    # Thousands Separator\n",
    "    comma_separator = \",\" in pattern_aux  # TODO: improve the separators part\n",
    "\n",
    "    # Adjusted Value\n",
    "    adjusted_value = value / (1000 ** (divisor_thousands))\n",
    "\n",
    "    # String Length\n",
    "    decimal_length = decimals + 1 if decimals else 0\n",
    "    percentage_length = 1 if percentage else 0\n",
    "    value_aux = adjusted_value * (100 if percentage else 1)\n",
    "    commas_length = int(np.log10(value_aux) // 3) if comma_separator else 0\n",
    "    string_length = integer_part + decimal_length + percentage_length + commas_length\n",
    "\n",
    "    formatted_value = f\"{adjusted_value:0{string_length}{',' if comma_separator else ''}.{decimals}{'%' if percentage else 'f'}}\"\n",
    "    formatted_value = f\"({formatted_value})\" if parentheses else formatted_value\n",
    "    return formatted_value"
   ]
  },
  {
   "cell_type": "code",
   "execution_count": null,
   "metadata": {},
   "outputs": [],
   "source": [
    "import re\n",
    "\n",
    "x = 123456.78911111111\n",
    "format_template = \",000,000,000.000%;(#,##0.00,%);-\"\n",
    "\n",
    "\n",
    "def formatter(value: float, format_template) -> str:\n",
    "    formats = format_template.split(\";\")\n",
    "    format_pos = formats[0]\n",
    "    format_neg = format_pos if len(formats) < 2 else formats[1]\n",
    "    format_missing = format_pos if len(formats) == 3 else \"\"\n",
    "\n",
    "    if value is np.nan:\n",
    "        return format_missing\n",
    "    else:\n",
    "        return float_to_string(value, format_pos if value >= 0 else format_neg)\n",
    "\n",
    "formatter(x, format_template)"
   ]
  },
  {
   "cell_type": "code",
   "execution_count": null,
   "metadata": {},
   "outputs": [],
   "source": [
    "from typing import Optional, Union\n",
    "\n",
    "\n",
    "def format_float(\n",
    "    data: Union[pd.Series, pd.DataFrame],\n",
    "    precision: Optional[int] = 0,\n",
    "    percentage: bool = False,\n",
    "    parentheses: bool = True,\n",
    "    missing: [str] = \"-\",\n",
    "):\n",
    "    formatting = lambda x: (\n",
    "        f\"{'('if parentheses else '-'}\"  # only if x <0 else ''\n",
    "        f\"{abs(x):.{precision}{'%' if percentage else 'f'}}\"\n",
    "        f\"{')'if parentheses else ''}\"  # only if x <0 else ''\n",
    "    )\n",
    "    return data.applymap(formatting).replace(np.nan, missing)\n",
    "\n",
    "\n",
    "df_perf = performance.table.T.copy()\n",
    "DICT_COLS = {\n",
    "    \"Return\": \"Retorno\",\n",
    "    \"Vol\": \"Volatilidade\",\n",
    "    \"Skew\": \"Assimetria\",\n",
    "    \"Kurt\": \"Curtose\",\n",
    "    \"Sharpe\": \"Sharpe\",\n",
    "    \"Sortino\": \"Sortino\",\n",
    "    \"DD 1%q\": \"DD (1%)\",\n",
    "    \"Max DD\": \"Max DD\",\n",
    "    \"Start Date\": \"Início\",\n",
    "}\n",
    "COLS_FLOAT_PCT = [\n",
    "    \"Retorno\",\n",
    "    \"Volatilidade\",\n",
    "    \"Drawdown (1º Percentil)\",\n",
    "    \"Máximo Drawdown\",\n",
    "]\n",
    "COLS_FLOAT_DEFAULT = [\n",
    "    \"Índice de Sharpe\",\n",
    "    \"Assimetria\",\n",
    "    \"Curtose\",\n",
    "    \"Índice de Sortino\",\n",
    "]\n",
    "DATE_COLS = [\n",
    "    \"Início da Série\",\n",
    "]\n",
    "df_perf[COLS_FLOAT_PCT] = format_float(\n",
    "    df_perf[COLS_FLOAT_PCT], precision=2, percentage=True, parentheses=True, missing=\"-\"\n",
    ")\n",
    "df_perf[COLS_FLOAT_DEFAULT] = format_float(\n",
    "    df_perf[COLS_FLOAT_DEFAULT],\n",
    "    precision=3,\n",
    "    percentage=False,\n",
    "    parentheses=True,\n",
    "    missing=\"-\",\n",
    ")\n",
    "df_perf = df_perf.rename(columns=DICT_COLS)\n",
    "df_perf"
   ]
  }
 ],
 "metadata": {
  "kernelspec": {
   "display_name": "bwgi",
   "language": "python",
   "name": "python3"
  },
  "language_info": {
   "codemirror_mode": {
    "name": "ipython",
    "version": 3
   },
   "file_extension": ".py",
   "mimetype": "text/x-python",
   "name": "python",
   "nbconvert_exporter": "python",
   "pygments_lexer": "ipython3",
   "version": "3.9.19"
  }
 },
 "nbformat": 4,
 "nbformat_minor": 2
}
