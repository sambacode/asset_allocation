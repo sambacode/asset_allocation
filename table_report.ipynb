{
 "cells": [
  {
   "cell_type": "code",
   "execution_count": 28,
   "metadata": {},
   "outputs": [],
   "source": [
    "import pandas as pd\n",
    "import numpy as np\n",
    "import logging\n",
    "from pathlib import Path\n",
    "from typing import Literal, Optional\n",
    "\n",
    "import pandas as pd\n",
    "from entities import EM_CDS_TRACKER_DICT, FX_TRACKER_DICT\n",
    "from utils import Backtest, load_trackers, clean_stale_prices\n",
    "from pathlib import Path\n",
    "from aamalha.utils.performance import Performance"
   ]
  },
  {
   "cell_type": "markdown",
   "metadata": {},
   "source": [
    "# Trackers Statistics"
   ]
  },
  {
   "cell_type": "code",
   "execution_count": null,
   "metadata": {},
   "outputs": [],
   "source": [
    "fx = load_trackers(FX_TRACKER_DICT).rename(columns=lambda col: col + \"_fx\")\n",
    "cds = load_trackers(EM_CDS_TRACKER_DICT).rename(columns=lambda col: col + \"_cds\")\n",
    "\n",
    "trackers = pd.concat(\n",
    "    [fx, cds],\n",
    "    axis=1,\n",
    ").fillna(method=\"ffill\")\n",
    "trackers = pd.concat(\n",
    "    [clean_stale_prices(trackers[col].copy()) for col in trackers], axis=1\n",
    ")\n",
    "trackers = trackers[:\"2024-09-30\"]\n",
    "trackers"
   ]
  },
  {
   "cell_type": "code",
   "execution_count": 15,
   "metadata": {},
   "outputs": [],
   "source": [
    "(trackers / trackers.apply(lambda col: col[col.first_valid_index()]) - 1).filter(\n",
    "    like=\"_cds\", axis=1\n",
    ").sort_index(axis=1).rename(\n",
    "    columns=lambda col: col[:3]\n",
    ").to_clipboard(excel=True)"
   ]
  },
  {
   "cell_type": "code",
   "execution_count": 3,
   "metadata": {},
   "outputs": [],
   "source": [
    "perf_trackers = Performance(trackers)"
   ]
  },
  {
   "cell_type": "code",
   "execution_count": 17,
   "metadata": {},
   "outputs": [],
   "source": [
    "df_perf = perf_trackers.table.T.copy()\n",
    "DICT_COLS = {\n",
    "    \"Return\": \"Retorno\",\n",
    "    \"Vol\": \"Volatilidade\",\n",
    "    \"Skew\": \"Assimetria\",\n",
    "    \"Kurt\": \"Curtose\",\n",
    "    \"Sharpe\": \"Sharpe\",\n",
    "    \"Sortino\": \"Sortino\",\n",
    "    \"DD 1%q\": \"DD (1%)\",\n",
    "    \"Max DD\": \"Max DD\",\n",
    "    \"Start Date\": \"Início\",\n",
    "}\n",
    "df_perf.rename(\n",
    "    columns=DICT_COLS, index=lambda idx: f\"{idx[:3]} ({idx[4:].upper()})\"\n",
    ").to_clipboard()"
   ]
  },
  {
   "cell_type": "code",
   "execution_count": null,
   "metadata": {},
   "outputs": [],
   "source": [
    "perf_trackers.rolling_sharpe.ARS_cds"
   ]
  },
  {
   "cell_type": "code",
   "execution_count": 5,
   "metadata": {},
   "outputs": [],
   "source": [
    "DICT_COLS = {\n",
    "    \"count\": \"N obs\",\n",
    "    \"mean\": \"Média\",\n",
    "    \"std\": \"DP\",\n",
    "    \"min\": \"Min\",\n",
    "    \"max\": \"Max\",\n",
    "}\n",
    "trackers_rolling_sharpe = perf_trackers.rolling_sharpe.describe().T\n",
    "trackers_rolling_sharpe[\"Início\"] = perf_trackers.rolling_sharpe.apply(\n",
    "    lambda col: col.first_valid_index()\n",
    ")\n",
    "trackers_rolling_sharpe.rename(\n",
    "    columns=DICT_COLS, index=lambda idx: f\"{idx[:3]} ({idx[4:].upper()})\"\n",
    ").to_clipboard()"
   ]
  },
  {
   "cell_type": "markdown",
   "metadata": {},
   "source": [
    "# Valor"
   ]
  },
  {
   "cell_type": "code",
   "execution_count": null,
   "metadata": {},
   "outputs": [],
   "source": [
    "FOLDER = Path(\n",
    "    \"C:/Users/pcampos/OneDrive - Insper - Instituto de Ensino e Pesquisa/Dissertação Mestrado/Analysis/backtests\"\n",
    ")\n",
    "list_series = []\n",
    "for file_path in FOLDER.glob(\"*VALUE-*.xlsx\"):\n",
    "    file_path.is_file()\n",
    "    s_backtest = pd.read_excel(file_path, index_col=0)[\"backtest\"]\n",
    "    s_backtest.name = file_path.stem\n",
    "    list_series.append(s_backtest)\n",
    "\n",
    "df_backtest = pd.concat(\n",
    "    [clean_stale_prices(col.copy()) for col in list_series], axis=1\n",
    ").sort_index(ascending=True)\n",
    "df_backtest = df_backtest.dropna(how=\"all\")\n",
    "df_backtest.iloc[0].loc[df_backtest.iloc[1].isna()] = np.nan\n",
    "df_backtest"
   ]
  },
  {
   "cell_type": "code",
   "execution_count": 19,
   "metadata": {},
   "outputs": [],
   "source": [
    "from bwbbgdl import GoGet\n",
    "import statsmodels.api as sm\n",
    "\n",
    "\n",
    "tickers = [\"SPXT Index\", \"FXCTEM8 Index\"]\n",
    "g = GoGet(enforce_strict_matching=True)\n",
    "benchmarks: pd.DataFrame = g.fetch(\n",
    "    tickers=tickers,\n",
    "    fields=\"PX_LAST\",\n",
    ")\n",
    "benchmarks = benchmarks.pivot_table(index=\"date\", columns=\"id\")\n",
    "benchmarks.columns = benchmarks.columns.droplevel(0)\n",
    "\n",
    "N_DAYS = 1\n",
    "exog = benchmarks.fillna(method=\"ffill\").copy()\n",
    "endog = np.log(df_backtest[\"VALUE-FX-PAIRED-12\"]).diff(N_DAYS).dropna()\n",
    "exog = np.log(exog).diff(N_DAYS).reindex(endog.dropna().index).fillna(method=\"ffill\")\n",
    "exog = sm.add_constant(exog)\n",
    "model = sm.OLS(endog, exog).fit()\n",
    "print(model.summary())"
   ]
  },
  {
   "cell_type": "code",
   "execution_count": null,
   "metadata": {},
   "outputs": [],
   "source": [
    "from bwbbgdl import GoGet\n",
    "import statsmodels.api as sm\n",
    "\n",
    "\n",
    "tickers = [\"SPXT Index\", \"FXCTEM8 Index\", \"MXWD Index\", \"HYG Equity\", \"EREM5LD5 Index\"]\n",
    "g = GoGet(enforce_strict_matching=True)\n",
    "benchmarks: pd.DataFrame = g.fetch(\n",
    "    tickers=tickers,\n",
    "    fields=\"PX_LAST\",\n",
    ")\n",
    "benchmarks = benchmarks.pivot_table(index=\"date\", columns=\"id\")\n",
    "benchmarks.columns = benchmarks.columns.droplevel(0)\n",
    "\n",
    "N_DAYS = 1\n",
    "exog = benchmarks.fillna(method=\"ffill\").copy()\n",
    "endog = np.log(df_backtest[\"VALUE-FX-PAIRED-12\"]).diff(N_DAYS).dropna()\n",
    "exog = np.log(exog).diff(N_DAYS).reindex(endog.dropna().index).fillna(method=\"ffill\")\n",
    "exog = sm.add_constant(exog)\n",
    "model = sm.OLS(endog, exog).fit()\n",
    "print(model.summary())"
   ]
  },
  {
   "cell_type": "code",
   "execution_count": 20,
   "metadata": {},
   "outputs": [],
   "source": [
    "df_backtest.to_clipboard(excel=True)\n"
   ]
  },
  {
   "cell_type": "code",
   "execution_count": null,
   "metadata": {},
   "outputs": [],
   "source": [
    "df_backtest"
   ]
  },
  {
   "cell_type": "markdown",
   "metadata": {},
   "source": [
    "## Backtests"
   ]
  },
  {
   "cell_type": "code",
   "execution_count": 22,
   "metadata": {},
   "outputs": [],
   "source": [
    "performance_1y = Performance(df_backtest)\n",
    "performance_5y = Performance(df_backtest, rolling_window=252*5)"
   ]
  },
  {
   "cell_type": "markdown",
   "metadata": {},
   "source": [
    "## Estatísticas Descritivas dos  Trackers - Retornos Diários\t\t\t\t\t\t\t\t\t"
   ]
  },
  {
   "cell_type": "code",
   "execution_count": 23,
   "metadata": {},
   "outputs": [],
   "source": [
    "DICT_COLS = {\n",
    "    \"Return\": \"Retorno\",\n",
    "    \"Vol\": \"Volatilidade\",\n",
    "    \"Skew\": \"Assimetria\",\n",
    "    \"Kurt\": \"Curtose\",\n",
    "    \"Sharpe\": \"Sharpe\",\n",
    "    \"Sortino\": \"Sortino\",\n",
    "    \"DD 1%q\": \"DD (1%)\",\n",
    "    \"Max DD\": \"Max DD\",\n",
    "    \"Start Date\": \"Início\",\n",
    "}\n",
    "performance_1y.table.T.rename(columns=DICT_COLS).to_clipboard()"
   ]
  },
  {
   "cell_type": "markdown",
   "metadata": {},
   "source": [
    "## Sharpe Média Móvel 1 Ano\t\t\t\t\t\t\t\t\t\t\t\t\t\t"
   ]
  },
  {
   "cell_type": "code",
   "execution_count": 24,
   "metadata": {},
   "outputs": [],
   "source": [
    "DICT_COLS = {\n",
    "    \"count\": \"N\",\n",
    "    \"mean\": \"Média\",\n",
    "    \"std\": \"DP\",\n",
    "    \"min\": \"Min\",\n",
    "    \"max\": \"Max\",\n",
    "}\n",
    "\n",
    "performance_1y_rolling_sharpe = performance_1y.rolling_sharpe.describe().T\n",
    "performance_1y_rolling_sharpe[\"Início\"] = performance_1y.rolling_sharpe.apply(\n",
    "    lambda col: col.first_valid_index()\n",
    ")\n",
    "performance_1y_rolling_sharpe.rename(columns=DICT_COLS).to_clipboard()"
   ]
  },
  {
   "cell_type": "code",
   "execution_count": 26,
   "metadata": {},
   "outputs": [],
   "source": [
    "rolling_sharpe = performance_1y.rolling_sharpe.copy()\n",
    "\n",
    "N = 500\n",
    "percentils = [n / N for n in range(0, N + 1)]\n",
    "col = performance_1y.rolling_sharpe.iloc[:, 0]\n",
    "pd.concat(\n",
    "    [\n",
    "        pd.Series(\n",
    "            {p: rolling_sharpe[col].quantile(p) for p in percentils},\n",
    "            name=col,\n",
    "        )\n",
    "        for col in rolling_sharpe.columns\n",
    "    ],\n",
    "    axis=1,\n",
    ").to_clipboard()"
   ]
  },
  {
   "cell_type": "markdown",
   "metadata": {},
   "source": [
    "## Sharpe Média Móvel 5 Ano"
   ]
  },
  {
   "cell_type": "code",
   "execution_count": 25,
   "metadata": {},
   "outputs": [],
   "source": [
    "DICT_COLS = {\n",
    "    \"count\": \"N\",\n",
    "    \"mean\": \"Média\",\n",
    "    \"std\": \"DP\",\n",
    "    \"min\": \"Min\",\n",
    "    \"max\": \"Max\",\n",
    "}\n",
    "\n",
    "performance_5y_rolling_sharpe = performance_5y.rolling_sharpe.describe().T\n",
    "performance_5y_rolling_sharpe[\"Início\"] = performance_5y.rolling_sharpe.apply(\n",
    "    lambda col: col.first_valid_index()\n",
    ")\n",
    "performance_5y_rolling_sharpe.rename(columns=DICT_COLS).to_clipboard()"
   ]
  },
  {
   "cell_type": "code",
   "execution_count": 27,
   "metadata": {},
   "outputs": [],
   "source": [
    "# rolling_sharpe_quantiles\n",
    "\n",
    "rolling_sharpe = performance_5y.rolling_sharpe.copy()\n",
    "\n",
    "N = 500\n",
    "percentils = [n / N for n in range(0, N +1)]\n",
    "col = performance_5y.rolling_sharpe.iloc[:, 0]\n",
    "pd.concat(\n",
    "    [\n",
    "        pd.Series(\n",
    "            {p: rolling_sharpe[col].quantile(p) for p in percentils},\n",
    "            name=col,\n",
    "        )\n",
    "        for col in rolling_sharpe.columns\n",
    "    ],\n",
    "    axis=1,\n",
    ").to_clipboard()"
   ]
  },
  {
   "cell_type": "markdown",
   "metadata": {},
   "source": [
    "# Long Only"
   ]
  },
  {
   "cell_type": "code",
   "execution_count": 29,
   "metadata": {},
   "outputs": [],
   "source": [
    "FOLDER = Path(\n",
    "    \"C:/Users/pcampos/OneDrive - Insper - Instituto de Ensino e Pesquisa/Dissertação Mestrado/Analysis/backtests\"\n",
    ")\n",
    "files = [\n",
    "    \"L-CDS-EW\",\n",
    "    \"L-CDS-IV\",\n",
    "    \"L-FX-EW\",\n",
    "    \"L-FX-IV\",\n",
    "    \"L-EW\",\n",
    "    \"L-IV\",\n",
    "]\n"
   ]
  },
  {
   "cell_type": "code",
   "execution_count": null,
   "metadata": {},
   "outputs": [],
   "source": [
    "FOLDER = Path(\n",
    "    \"C:/Users/pcampos/OneDrive - Insper - Instituto de Ensino e Pesquisa/Dissertação Mestrado/Analysis/backtests\"\n",
    ")\n",
    "files = [\n",
    "    \"L-CDS-EW\",\n",
    "    \"L-CDS-IV\",\n",
    "    \"L-FX-EW\",\n",
    "    \"L-FX-IV\",\n",
    "    \"L-EW\",\n",
    "    \"L-IV\",\n",
    "]\n",
    "file_pathS = [FOLDER.joinpath(f\"{file}.xlsx\") for file in files]\n",
    "list_series = []\n",
    "for file_path in file_pathS:\n",
    "    file_path.is_file()\n",
    "    s_backtest = pd.read_excel(file_path, index_col=0)[\"backtest\"]\n",
    "    s_backtest.name = file_path.stem\n",
    "    list_series.append(s_backtest)\n",
    "\n",
    "df_backtest = pd.concat(\n",
    "    [clean_stale_prices(col.copy()) for col in list_series], axis=1\n",
    ").sort_index(ascending=True)\n",
    "df_backtest = df_backtest[\"2009-02-03\":]\n",
    "df_backtest = df_backtest.dropna(how=\"all\")\n",
    "df_backtest.iloc[0].loc[df_backtest.iloc[1].isna()] = np.nan\n",
    "df_backtest"
   ]
  },
  {
   "cell_type": "code",
   "execution_count": 51,
   "metadata": {},
   "outputs": [],
   "source": [
    "df_backtest.to_clipboard(excel=True)\n"
   ]
  },
  {
   "cell_type": "code",
   "execution_count": null,
   "metadata": {},
   "outputs": [],
   "source": [
    "df_backtest"
   ]
  },
  {
   "cell_type": "markdown",
   "metadata": {},
   "source": [
    "## Backtests"
   ]
  },
  {
   "cell_type": "code",
   "execution_count": 37,
   "metadata": {},
   "outputs": [],
   "source": [
    "performance_1y = Performance(df_backtest)\n",
    "performance_5y = Performance(df_backtest, rolling_window=252*5)"
   ]
  },
  {
   "cell_type": "markdown",
   "metadata": {},
   "source": [
    "## Estatísticas Descritivas dos  Trackers - Retornos Diários\t\t\t\t\t\t\t\t\t"
   ]
  },
  {
   "cell_type": "code",
   "execution_count": 50,
   "metadata": {},
   "outputs": [],
   "source": [
    "DICT_COLS = {\n",
    "    \"Return\": \"Retorno\",\n",
    "    \"Vol\": \"Volatilidade\",\n",
    "    \"Skew\": \"Assimetria\",\n",
    "    \"Kurt\": \"Curtose\",\n",
    "    \"Sharpe\": \"Sharpe\",\n",
    "    \"Sortino\": \"Sortino\",\n",
    "    \"DD 1%q\": \"DD (1%)\",\n",
    "    \"Max DD\": \"Max DD\",\n",
    "    \"Start Date\": \"Início\",\n",
    "}\n",
    "performance_1y.table.T.rename(columns=DICT_COLS).to_clipboard()"
   ]
  },
  {
   "cell_type": "markdown",
   "metadata": {},
   "source": [
    "## Sharpe Média Móvel 1 Ano\t\t\t\t\t\t\t\t\t\t\t\t\t\t"
   ]
  },
  {
   "cell_type": "code",
   "execution_count": 49,
   "metadata": {},
   "outputs": [],
   "source": [
    "DICT_COLS = {\n",
    "    \"count\": \"N\",\n",
    "    \"mean\": \"Média\",\n",
    "    \"std\": \"DP\",\n",
    "    \"min\": \"Min\",\n",
    "    \"max\": \"Max\",\n",
    "}\n",
    "\n",
    "performance_1y_rolling_sharpe = performance_1y.rolling_sharpe.describe().T\n",
    "performance_1y_rolling_sharpe[\"Início\"] = performance_1y.rolling_sharpe.apply(\n",
    "    lambda col: col.first_valid_index()\n",
    ")\n",
    "performance_1y_rolling_sharpe.rename(columns=DICT_COLS).to_clipboard()"
   ]
  },
  {
   "cell_type": "code",
   "execution_count": 47,
   "metadata": {},
   "outputs": [],
   "source": [
    "rolling_sharpe = performance_1y.rolling_sharpe.copy()\n",
    "\n",
    "N = 500\n",
    "percentils = [n / N for n in range(0, N + 1)]\n",
    "col = performance_1y.rolling_sharpe.iloc[:, 0]\n",
    "pd.concat(\n",
    "    [\n",
    "        pd.Series(\n",
    "            {p: rolling_sharpe[col].quantile(p) for p in percentils},\n",
    "            name=col,\n",
    "        )\n",
    "        for col in rolling_sharpe.columns\n",
    "    ],\n",
    "    axis=1,\n",
    ").to_clipboard()"
   ]
  },
  {
   "cell_type": "markdown",
   "metadata": {},
   "source": [
    "## Sharpe Média Móvel 5 Ano"
   ]
  },
  {
   "cell_type": "code",
   "execution_count": 45,
   "metadata": {},
   "outputs": [],
   "source": [
    "DICT_COLS = {\n",
    "    \"count\": \"N\",\n",
    "    \"mean\": \"Média\",\n",
    "    \"std\": \"DP\",\n",
    "    \"min\": \"Min\",\n",
    "    \"max\": \"Max\",\n",
    "}\n",
    "\n",
    "performance_5y_rolling_sharpe = performance_5y.rolling_sharpe.describe().T\n",
    "performance_5y_rolling_sharpe[\"Início\"] = performance_5y.rolling_sharpe.apply(\n",
    "    lambda col: col.first_valid_index()\n",
    ")\n",
    "performance_5y_rolling_sharpe.rename(columns=DICT_COLS).to_clipboard()"
   ]
  },
  {
   "cell_type": "code",
   "execution_count": 44,
   "metadata": {},
   "outputs": [],
   "source": [
    "rolling_sharpe = performance_5y.rolling_sharpe.copy()\n",
    "\n",
    "N = 500\n",
    "percentils = [n / N for n in range(0, N +1)]\n",
    "col = performance_5y.rolling_sharpe.iloc[:, 0]\n",
    "pd.concat(\n",
    "    [\n",
    "        pd.Series(\n",
    "            {p: rolling_sharpe[col].quantile(p) for p in percentils},\n",
    "            name=col,\n",
    "        )\n",
    "        for col in rolling_sharpe.columns\n",
    "    ],\n",
    "    axis=1,\n",
    ").to_clipboard()"
   ]
  },
  {
   "cell_type": "markdown",
   "metadata": {},
   "source": [
    "# Long Short- Classe"
   ]
  },
  {
   "cell_type": "code",
   "execution_count": null,
   "metadata": {},
   "outputs": [],
   "source": [
    "FOLDER = Path(\n",
    "    \"C:/Users/pcampos/OneDrive - Insper - Instituto de Ensino e Pesquisa/Dissertação Mestrado/Analysis/backtests\"\n",
    ")\n",
    "\n",
    "file_pathS = [FOLDER.joinpath(f\"{file}.xlsx\") for file in files]\n",
    "list_series = []\n",
    "for file_path in list(FOLDER.glob(\"L-*-S-*\")):\n",
    "    file_path.is_file()\n",
    "    s_backtest = pd.read_excel(file_path, index_col=0)[\"backtest\"]\n",
    "    s_backtest.name = file_path.stem\n",
    "    list_series.append(s_backtest)\n",
    "\n",
    "df_backtest = pd.concat(\n",
    "    [clean_stale_prices(col.copy()) for col in list_series], axis=1\n",
    ").sort_index(ascending=True)\n",
    "df_backtest = df_backtest[\"2009-02-03\":]\n",
    "df_backtest = df_backtest.dropna(how=\"all\")\n",
    "df_backtest.iloc[0].loc[df_backtest.iloc[1].isna()] = np.nan\n",
    "df_backtest"
   ]
  },
  {
   "cell_type": "code",
   "execution_count": 57,
   "metadata": {},
   "outputs": [],
   "source": [
    "df_backtest.to_clipboard(excel=True)\n"
   ]
  },
  {
   "cell_type": "markdown",
   "metadata": {},
   "source": [
    "## Backtests"
   ]
  },
  {
   "cell_type": "code",
   "execution_count": 58,
   "metadata": {},
   "outputs": [],
   "source": [
    "performance_1y = Performance(df_backtest)\n",
    "performance_5y = Performance(df_backtest, rolling_window=252*5)"
   ]
  },
  {
   "cell_type": "markdown",
   "metadata": {},
   "source": [
    "## Estatísticas Descritivas dos  Trackers - Retornos Diários\t\t\t\t\t\t\t\t\t"
   ]
  },
  {
   "cell_type": "code",
   "execution_count": 59,
   "metadata": {},
   "outputs": [],
   "source": [
    "DICT_COLS = {\n",
    "    \"Return\": \"Retorno\",\n",
    "    \"Vol\": \"Volatilidade\",\n",
    "    \"Skew\": \"Assimetria\",\n",
    "    \"Kurt\": \"Curtose\",\n",
    "    \"Sharpe\": \"Sharpe\",\n",
    "    \"Sortino\": \"Sortino\",\n",
    "    \"DD 1%q\": \"DD (1%)\",\n",
    "    \"Max DD\": \"Max DD\",\n",
    "    \"Start Date\": \"Início\",\n",
    "}\n",
    "performance_1y.table.T.rename(columns=DICT_COLS).to_clipboard()"
   ]
  },
  {
   "cell_type": "markdown",
   "metadata": {},
   "source": [
    "## Sharpe Média Móvel 1 Ano\t\t\t\t\t\t\t\t\t\t\t\t\t\t"
   ]
  },
  {
   "cell_type": "code",
   "execution_count": 60,
   "metadata": {},
   "outputs": [],
   "source": [
    "DICT_COLS = {\n",
    "    \"count\": \"N\",\n",
    "    \"mean\": \"Média\",\n",
    "    \"std\": \"DP\",\n",
    "    \"min\": \"Min\",\n",
    "    \"max\": \"Max\",\n",
    "}\n",
    "\n",
    "performance_1y_rolling_sharpe = performance_1y.rolling_sharpe.describe().T\n",
    "performance_1y_rolling_sharpe[\"Início\"] = performance_1y.rolling_sharpe.apply(\n",
    "    lambda col: col.first_valid_index()\n",
    ")\n",
    "performance_1y_rolling_sharpe.rename(columns=DICT_COLS).to_clipboard()"
   ]
  },
  {
   "cell_type": "code",
   "execution_count": 61,
   "metadata": {},
   "outputs": [],
   "source": [
    "rolling_sharpe = performance_1y.rolling_sharpe.copy()\n",
    "\n",
    "N = 500\n",
    "percentils = [n / N for n in range(0, N + 1)]\n",
    "col = performance_1y.rolling_sharpe.iloc[:, 0]\n",
    "pd.concat(\n",
    "    [\n",
    "        pd.Series(\n",
    "            {p: rolling_sharpe[col].quantile(p) for p in percentils},\n",
    "            name=col,\n",
    "        )\n",
    "        for col in rolling_sharpe.columns\n",
    "    ],\n",
    "    axis=1,\n",
    ").to_clipboard()"
   ]
  },
  {
   "cell_type": "markdown",
   "metadata": {},
   "source": [
    "## Sharpe Média Móvel 5 Ano"
   ]
  },
  {
   "cell_type": "code",
   "execution_count": 62,
   "metadata": {},
   "outputs": [],
   "source": [
    "DICT_COLS = {\n",
    "    \"count\": \"N\",\n",
    "    \"mean\": \"Média\",\n",
    "    \"std\": \"DP\",\n",
    "    \"min\": \"Min\",\n",
    "    \"max\": \"Max\",\n",
    "}\n",
    "\n",
    "performance_5y_rolling_sharpe = performance_5y.rolling_sharpe.describe().T\n",
    "performance_5y_rolling_sharpe[\"Início\"] = performance_5y.rolling_sharpe.apply(\n",
    "    lambda col: col.first_valid_index()\n",
    ")\n",
    "performance_5y_rolling_sharpe.rename(columns=DICT_COLS).to_clipboard()"
   ]
  },
  {
   "cell_type": "code",
   "execution_count": 63,
   "metadata": {},
   "outputs": [],
   "source": [
    "rolling_sharpe = performance_5y.rolling_sharpe.copy()\n",
    "\n",
    "N = 500\n",
    "percentils = [n / N for n in range(0, N + 1)]\n",
    "col = performance_5y.rolling_sharpe.iloc[:, 0]\n",
    "pd.concat(\n",
    "    [\n",
    "        pd.Series(\n",
    "            {p: rolling_sharpe[col].quantile(p) for p in percentils},\n",
    "            name=col,\n",
    "        )\n",
    "        for col in rolling_sharpe.columns\n",
    "    ],\n",
    "    axis=1,\n",
    ").to_clipboard()"
   ]
  },
  {
   "cell_type": "markdown",
   "metadata": {},
   "source": [
    "# Long Short - Ativo"
   ]
  },
  {
   "cell_type": "code",
   "execution_count": 64,
   "metadata": {},
   "outputs": [
    {
     "data": {
      "text/html": [
       "<div>\n",
       "<style scoped>\n",
       "    .dataframe tbody tr th:only-of-type {\n",
       "        vertical-align: middle;\n",
       "    }\n",
       "\n",
       "    .dataframe tbody tr th {\n",
       "        vertical-align: top;\n",
       "    }\n",
       "\n",
       "    .dataframe thead th {\n",
       "        text-align: right;\n",
       "    }\n",
       "</style>\n",
       "<table border=\"1\" class=\"dataframe\">\n",
       "  <thead>\n",
       "    <tr style=\"text-align: right;\">\n",
       "      <th></th>\n",
       "      <th>LS-CDS-FX-BN-IV</th>\n",
       "      <th>LS-FX-CDS-BN-IV</th>\n",
       "      <th>LS-FX-CDS-IV</th>\n",
       "      <th>LS-FX-CDS-IV</th>\n",
       "    </tr>\n",
       "    <tr>\n",
       "      <th>date</th>\n",
       "      <th></th>\n",
       "      <th></th>\n",
       "      <th></th>\n",
       "      <th></th>\n",
       "    </tr>\n",
       "  </thead>\n",
       "  <tbody>\n",
       "    <tr>\n",
       "      <th>2009-02-03</th>\n",
       "      <td>88.732922</td>\n",
       "      <td>113.952739</td>\n",
       "      <td>98.793667</td>\n",
       "      <td>98.793667</td>\n",
       "    </tr>\n",
       "    <tr>\n",
       "      <th>2009-02-04</th>\n",
       "      <td>88.554396</td>\n",
       "      <td>114.184762</td>\n",
       "      <td>99.166558</td>\n",
       "      <td>99.166558</td>\n",
       "    </tr>\n",
       "    <tr>\n",
       "      <th>2009-02-05</th>\n",
       "      <td>88.344497</td>\n",
       "      <td>114.460641</td>\n",
       "      <td>99.509981</td>\n",
       "      <td>99.509981</td>\n",
       "    </tr>\n",
       "    <tr>\n",
       "      <th>2009-02-06</th>\n",
       "      <td>88.338092</td>\n",
       "      <td>114.473919</td>\n",
       "      <td>99.609150</td>\n",
       "      <td>99.609150</td>\n",
       "    </tr>\n",
       "    <tr>\n",
       "      <th>2009-02-09</th>\n",
       "      <td>88.363991</td>\n",
       "      <td>114.439778</td>\n",
       "      <td>99.719530</td>\n",
       "      <td>99.719530</td>\n",
       "    </tr>\n",
       "    <tr>\n",
       "      <th>...</th>\n",
       "      <td>...</td>\n",
       "      <td>...</td>\n",
       "      <td>...</td>\n",
       "      <td>...</td>\n",
       "    </tr>\n",
       "    <tr>\n",
       "      <th>2023-08-29</th>\n",
       "      <td>216.528809</td>\n",
       "      <td>-13.534421</td>\n",
       "      <td>32.890527</td>\n",
       "      <td>32.890527</td>\n",
       "    </tr>\n",
       "    <tr>\n",
       "      <th>2023-08-30</th>\n",
       "      <td>215.913695</td>\n",
       "      <td>-13.573725</td>\n",
       "      <td>33.051291</td>\n",
       "      <td>33.051291</td>\n",
       "    </tr>\n",
       "    <tr>\n",
       "      <th>2023-08-31</th>\n",
       "      <td>216.452711</td>\n",
       "      <td>-13.540070</td>\n",
       "      <td>32.809051</td>\n",
       "      <td>32.809051</td>\n",
       "    </tr>\n",
       "    <tr>\n",
       "      <th>2023-09-01</th>\n",
       "      <td>217.347719</td>\n",
       "      <td>-13.484237</td>\n",
       "      <td>32.626043</td>\n",
       "      <td>32.626043</td>\n",
       "    </tr>\n",
       "    <tr>\n",
       "      <th>2024-09-30</th>\n",
       "      <td>217.347719</td>\n",
       "      <td>-13.484237</td>\n",
       "      <td>32.626043</td>\n",
       "      <td>32.626043</td>\n",
       "    </tr>\n",
       "  </tbody>\n",
       "</table>\n",
       "<p>3668 rows × 4 columns</p>\n",
       "</div>"
      ],
      "text/plain": [
       "            LS-CDS-FX-BN-IV  LS-FX-CDS-BN-IV  LS-FX-CDS-IV  LS-FX-CDS-IV\n",
       "date                                                                    \n",
       "2009-02-03        88.732922       113.952739     98.793667     98.793667\n",
       "2009-02-04        88.554396       114.184762     99.166558     99.166558\n",
       "2009-02-05        88.344497       114.460641     99.509981     99.509981\n",
       "2009-02-06        88.338092       114.473919     99.609150     99.609150\n",
       "2009-02-09        88.363991       114.439778     99.719530     99.719530\n",
       "...                     ...              ...           ...           ...\n",
       "2023-08-29       216.528809       -13.534421     32.890527     32.890527\n",
       "2023-08-30       215.913695       -13.573725     33.051291     33.051291\n",
       "2023-08-31       216.452711       -13.540070     32.809051     32.809051\n",
       "2023-09-01       217.347719       -13.484237     32.626043     32.626043\n",
       "2024-09-30       217.347719       -13.484237     32.626043     32.626043\n",
       "\n",
       "[3668 rows x 4 columns]"
      ]
     },
     "execution_count": 64,
     "metadata": {},
     "output_type": "execute_result"
    }
   ],
   "source": [
    "FOLDER = Path(\n",
    "    \"C:/Users/pcampos/OneDrive - Insper - Instituto de Ensino e Pesquisa/Dissertação Mestrado/Analysis/backtests\"\n",
    ")\n",
    "files = [\n",
    "    \"LS-CDS-FX-BN-IV\",\n",
    "    \"LS-FX-CDS-BN-IV\",\n",
    "    \"LS-FX-CDS-IV\",\n",
    "    \"LS-FX-CDS-IV\",\n",
    "]\n",
    "file_pathS = [FOLDER.joinpath(f\"{file}.xlsx\") for file in files]\n",
    "list_series = []\n",
    "for file_path in file_pathS:\n",
    "    file_path.is_file()\n",
    "    s_backtest = pd.read_excel(file_path, index_col=0)[\"backtest\"]\n",
    "    s_backtest.name = file_path.stem\n",
    "    list_series.append(s_backtest)\n",
    "\n",
    "df_backtest = pd.concat(\n",
    "    [clean_stale_prices(col.copy()) for col in list_series], axis=1\n",
    ").sort_index(ascending=True)\n",
    "df_backtest = df_backtest[\"2009-02-03\":]\n",
    "df_backtest = df_backtest.dropna(how=\"all\")\n",
    "df_backtest.iloc[0].loc[df_backtest.iloc[1].isna()] = np.nan\n",
    "df_backtest"
   ]
  },
  {
   "cell_type": "code",
   "execution_count": 65,
   "metadata": {},
   "outputs": [],
   "source": [
    "df_backtest.to_clipboard(excel=True)\n"
   ]
  },
  {
   "cell_type": "markdown",
   "metadata": {},
   "source": [
    "## Backtests"
   ]
  },
  {
   "cell_type": "code",
   "execution_count": null,
   "metadata": {},
   "outputs": [],
   "source": [
    "performance_1y = Performance(df_backtest)\n",
    "performance_5y = Performance(df_backtest, rolling_window=252*5)"
   ]
  },
  {
   "cell_type": "markdown",
   "metadata": {},
   "source": [
    "## Estatísticas Descritivas dos  Trackers - Retornos Diários\t\t\t\t\t\t\t\t\t"
   ]
  },
  {
   "cell_type": "code",
   "execution_count": null,
   "metadata": {},
   "outputs": [],
   "source": [
    "DICT_COLS = {\n",
    "    \"Return\": \"Retorno\",\n",
    "    \"Vol\": \"Volatilidade\",\n",
    "    \"Skew\": \"Assimetria\",\n",
    "    \"Kurt\": \"Curtose\",\n",
    "    \"Sharpe\": \"Sharpe\",\n",
    "    \"Sortino\": \"Sortino\",\n",
    "    \"DD 1%q\": \"DD (1%)\",\n",
    "    \"Max DD\": \"Max DD\",\n",
    "    \"Start Date\": \"Início\",\n",
    "}\n",
    "performance_1y.table.T.rename(columns=DICT_COLS).to_clipboard()"
   ]
  },
  {
   "cell_type": "markdown",
   "metadata": {},
   "source": [
    "## Sharpe Média Móvel 1 Ano\t\t\t\t\t\t\t\t\t\t\t\t\t\t"
   ]
  },
  {
   "cell_type": "code",
   "execution_count": null,
   "metadata": {},
   "outputs": [],
   "source": [
    "DICT_COLS = {\n",
    "    \"count\": \"N\",\n",
    "    \"mean\": \"Média\",\n",
    "    \"std\": \"DP\",\n",
    "    \"min\": \"Min\",\n",
    "    \"max\": \"Max\",\n",
    "}\n",
    "\n",
    "performance_1y_rolling_sharpe = performance_1y.rolling_sharpe.describe().T\n",
    "performance_1y_rolling_sharpe[\"Início\"] = performance_1y.rolling_sharpe.apply(\n",
    "    lambda col: col.first_valid_index()\n",
    ")\n",
    "performance_1y_rolling_sharpe.rename(columns=DICT_COLS).to_clipboard()"
   ]
  },
  {
   "cell_type": "code",
   "execution_count": null,
   "metadata": {},
   "outputs": [],
   "source": [
    "rolling_sharpe = performance_1y.rolling_sharpe.copy()\n",
    "\n",
    "N = 500\n",
    "percentils = [n / N for n in range(0, N + 1)]\n",
    "col = performance_1y.rolling_sharpe.iloc[:, 0]\n",
    "pd.concat(\n",
    "    [\n",
    "        pd.Series(\n",
    "            {p: rolling_sharpe[col].quantile(p) for p in percentils},\n",
    "            name=col,\n",
    "        )\n",
    "        for col in rolling_sharpe.columns\n",
    "    ],\n",
    "    axis=1,\n",
    ").to_clipboard()"
   ]
  },
  {
   "cell_type": "markdown",
   "metadata": {},
   "source": [
    "## Sharpe Média Móvel 5 Ano"
   ]
  },
  {
   "cell_type": "code",
   "execution_count": null,
   "metadata": {},
   "outputs": [],
   "source": [
    "DICT_COLS = {\n",
    "    \"count\": \"N\",\n",
    "    \"mean\": \"Média\",\n",
    "    \"std\": \"DP\",\n",
    "    \"min\": \"Min\",\n",
    "    \"max\": \"Max\",\n",
    "}\n",
    "\n",
    "performance_5y_rolling_sharpe = performance_5y.rolling_sharpe.describe().T\n",
    "performance_5y_rolling_sharpe[\"Início\"] = performance_5y.rolling_sharpe.apply(\n",
    "    lambda col: col.first_valid_index()\n",
    ")\n",
    "performance_5y_rolling_sharpe.rename(columns=DICT_COLS).to_clipboard()"
   ]
  }
 ],
 "metadata": {
  "kernelspec": {
   "display_name": "bwgi",
   "language": "python",
   "name": "python3"
  },
  "language_info": {
   "codemirror_mode": {
    "name": "ipython",
    "version": 3
   },
   "file_extension": ".py",
   "mimetype": "text/x-python",
   "name": "python",
   "nbconvert_exporter": "python",
   "pygments_lexer": "ipython3",
   "version": "3.9.19"
  }
 },
 "nbformat": 4,
 "nbformat_minor": 2
}
