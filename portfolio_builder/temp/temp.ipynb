{
 "cells": [
  {
   "cell_type": "markdown",
   "metadata": {},
   "source": [
    "# Imports"
   ]
  },
  {
   "cell_type": "code",
   "execution_count": 1,
   "metadata": {},
   "outputs": [],
   "source": [
    "import pandas as pd\n",
    "import numpy as np\n",
    "import statsmodels.api as sm\n",
    "from matplotlib.pyplot import twinx\n",
    "from matplotlib import pyplot as plt\n",
    "import matplotlib.pyplot as plt\n",
    "from matplotlib.ticker import FuncFormatter"
   ]
  },
  {
   "cell_type": "markdown",
   "metadata": {},
   "source": [
    "# Functions Library"
   ]
  },
  {
   "cell_type": "code",
   "execution_count": 2,
   "metadata": {},
   "outputs": [],
   "source": [
    "def read_data() -> tuple[pd.Series, pd.Series]:\n",
    "    PATH = r\"C:\\Users\\pcampos\\OneDrive - Insper - Instituto de Ensino e Pesquisa\\Dissertação Mestrado\\base\\BR CDS and FX.xlsx\"\n",
    "    sheet_name = \"BRL\"\n",
    "    sheet_name2 = \"Brazil CDS\"\n",
    "    fx = pd.read_excel(PATH, index_col=0, sheet_name=sheet_name).iloc[:, 0]\n",
    "    cds = pd.read_excel(PATH, index_col=0, sheet_name=sheet_name2).iloc[:, 0]\n",
    "    fx.index = pd.to_datetime(fx.index)\n",
    "    fx.name = sheet_name\n",
    "    cds.index = pd.to_datetime(cds.index)\n",
    "    cds.name = sheet_name2\n",
    "    return fx, cds\n",
    "\n",
    "\n",
    "def filter_by_period(df: pd.DataFrame, period: str) -> pd.DataFrame:\n",
    "    new_index = (\n",
    "        pd.DatetimeIndex(  # TODO: add check for last date, if should be included or not\n",
    "            df.index.to_series().groupby(df.index.to_period(period)).max()\n",
    "        )\n",
    "    )\n",
    "    return df.loc[new_index].copy()\n",
    "\n",
    "\n",
    "def _calculate_parameters(y: pd.Series, x: pd.Series) -> pd.Series:\n",
    "    model = sm.OLS(y, sm.add_constant(x)).fit()\n",
    "    return model.params\n",
    "\n",
    "def _percentage_formatter(x, _):\n",
    "    return f\"{x * 100:.1f}%\""
   ]
  },
  {
   "cell_type": "markdown",
   "metadata": {},
   "source": [
    "# Prepare data"
   ]
  },
  {
   "cell_type": "markdown",
   "metadata": {},
   "source": [
    "## Generate Return Series "
   ]
  },
  {
   "cell_type": "code",
   "execution_count": 6,
   "metadata": {},
   "outputs": [
    {
     "data": {
      "text/html": [
       "<div>\n",
       "<style scoped>\n",
       "    .dataframe tbody tr th:only-of-type {\n",
       "        vertical-align: middle;\n",
       "    }\n",
       "\n",
       "    .dataframe tbody tr th {\n",
       "        vertical-align: top;\n",
       "    }\n",
       "\n",
       "    .dataframe thead th {\n",
       "        text-align: right;\n",
       "    }\n",
       "</style>\n",
       "<table border=\"1\" class=\"dataframe\">\n",
       "  <thead>\n",
       "    <tr style=\"text-align: right;\">\n",
       "      <th></th>\n",
       "      <th>Brazil CDS</th>\n",
       "      <th>BRL</th>\n",
       "    </tr>\n",
       "  </thead>\n",
       "  <tbody>\n",
       "    <tr>\n",
       "      <th>2007-08-08</th>\n",
       "      <td>0.004515</td>\n",
       "      <td>0.012847</td>\n",
       "    </tr>\n",
       "    <tr>\n",
       "      <th>2007-08-09</th>\n",
       "      <td>-0.006302</td>\n",
       "      <td>-0.013849</td>\n",
       "    </tr>\n",
       "    <tr>\n",
       "      <th>2007-08-10</th>\n",
       "      <td>-0.001671</td>\n",
       "      <td>-0.023582</td>\n",
       "    </tr>\n",
       "    <tr>\n",
       "      <th>2007-08-13</th>\n",
       "      <td>0.003102</td>\n",
       "      <td>0.008677</td>\n",
       "    </tr>\n",
       "    <tr>\n",
       "      <th>2007-08-14</th>\n",
       "      <td>-0.004417</td>\n",
       "      <td>-0.018366</td>\n",
       "    </tr>\n",
       "    <tr>\n",
       "      <th>...</th>\n",
       "      <td>...</td>\n",
       "      <td>...</td>\n",
       "    </tr>\n",
       "    <tr>\n",
       "      <th>2024-05-20</th>\n",
       "      <td>0.000455</td>\n",
       "      <td>0.004086</td>\n",
       "    </tr>\n",
       "    <tr>\n",
       "      <th>2024-05-21</th>\n",
       "      <td>-0.000379</td>\n",
       "      <td>-0.003153</td>\n",
       "    </tr>\n",
       "    <tr>\n",
       "      <th>2024-05-22</th>\n",
       "      <td>-0.001365</td>\n",
       "      <td>-0.008490</td>\n",
       "    </tr>\n",
       "    <tr>\n",
       "      <th>2024-05-23</th>\n",
       "      <td>-0.001671</td>\n",
       "      <td>0.000464</td>\n",
       "    </tr>\n",
       "    <tr>\n",
       "      <th>2024-05-24</th>\n",
       "      <td>0.000760</td>\n",
       "      <td>0.000596</td>\n",
       "    </tr>\n",
       "  </tbody>\n",
       "</table>\n",
       "<p>4222 rows × 2 columns</p>\n",
       "</div>"
      ],
      "text/plain": [
       "            Brazil CDS       BRL\n",
       "2007-08-08    0.004515  0.012847\n",
       "2007-08-09   -0.006302 -0.013849\n",
       "2007-08-10   -0.001671 -0.023582\n",
       "2007-08-13    0.003102  0.008677\n",
       "2007-08-14   -0.004417 -0.018366\n",
       "...                ...       ...\n",
       "2024-05-20    0.000455  0.004086\n",
       "2024-05-21   -0.000379 -0.003153\n",
       "2024-05-22   -0.001365 -0.008490\n",
       "2024-05-23   -0.001671  0.000464\n",
       "2024-05-24    0.000760  0.000596\n",
       "\n",
       "[4222 rows x 2 columns]"
      ]
     },
     "execution_count": 6,
     "metadata": {},
     "output_type": "execute_result"
    }
   ],
   "source": [
    "(s_index_fx, s_index_cds) = read_data()\n",
    "\n",
    "list_series = [s_index_cds, s_index_fx]\n",
    "df_indexes = pd.concat(list_series, axis=1, join=\"outer\").fillna(method=\"ffill\")\n",
    "df_indexes.index.name = None\n",
    "\n",
    "df_period = filter_by_period(df_indexes, \"D\")\n",
    "df_return_ln = np.log(df_period / df_period.shift(1)).dropna().copy()\n",
    "df_return = (df_period / df_period.shift(1) - 1).dropna().copy()\n",
    "df_return_ln"
   ]
  },
  {
   "cell_type": "markdown",
   "metadata": {},
   "source": [
    "## Estimate Parameters"
   ]
  },
  {
   "cell_type": "code",
   "execution_count": 11,
   "metadata": {},
   "outputs": [],
   "source": [
    "# Parameters:\n",
    "# starting point: 252 observations\n",
    "# expaning window beta\n",
    "\n",
    "N_MIN = 252\n",
    "\n",
    "N_MAX = len(df_return_ln.index)\n",
    "\n",
    "aux_params = {}\n",
    "\n",
    "for n in range(N_MIN, N_MAX + 1):\n",
    "\n",
    "    sub_df = df_return_ln.iloc[:n].copy()\n",
    "\n",
    "    param = _calculate_parameters(sub_df.iloc[:, 0], sub_df.iloc[:, 1])\n",
    "\n",
    "    ref_date = sub_df.index[-1]\n",
    "    aux_params[ref_date] = param.to_dict()\n",
    "\n",
    "\n",
    "df_params = pd.DataFrame(aux_params).T\n",
    "df_params.columns = [\"alpha\", \"beta\"]\n",
    "df_aux = pd.concat([df_return_ln, df_params], axis=1)"
   ]
  },
  {
   "cell_type": "markdown",
   "metadata": {},
   "source": [
    "# Trading Strategy"
   ]
  },
  {
   "cell_type": "code",
   "execution_count": null,
   "metadata": {},
   "outputs": [],
   "source": [
    "df_trading_period = df_aux.dropna().copy()\n",
    "N_DAYS = 63\n",
    "rebalance_dates = df_trading_period.index[::N_DAYS].copy()\n",
    "\n",
    "start_date = df_trading_period.index[0]\n",
    "_beta = df_trading_period.loc[start_date, \"beta\"]\n",
    "_period_return_acc_fx = 0\n",
    "_period_return_acc_cds = 0\n",
    "_return_acc_gap = 0\n",
    "s_period_returns_acc_fx = pd.Series(name=\"period_returns_acc_fx\")\n",
    "s_period_returns_acc_cds = pd.Series(name=\"period_returns_acc_cds\")\n",
    "s_period_returns_acc_fx_expected = pd.Series(name=\"period_returns_acc_fx_expected\")\n",
    "s_period_returns_acc_gap = pd.Series(name=\"period_returns_acc_gap\")\n",
    "s_returns_acc_gap = pd.Series(name=\"returns_acc_gap\")\n",
    "s_period_nbr = pd.Series(name=\"period_nbr\")\n",
    "period = 1\n",
    "for date in df_trading_period.index:\n",
    "    s_period_nbr[date] = period\n",
    "    _daily_return_fx = df_trading_period.loc[date, \"BRL\"]\n",
    "    _period_return_acc_fx += _daily_return_fx\n",
    "    s_period_returns_acc_fx[date] = _period_return_acc_fx\n",
    "\n",
    "    _daily_return_cds = df_trading_period.loc[date, \"Brazil CDS\"]\n",
    "    _period_return_acc_cds += _daily_return_cds\n",
    "    s_period_returns_acc_cds[date] = _period_return_acc_cds\n",
    "\n",
    "    _period_return_acc_fx_expected = _beta * _period_return_acc_fx\n",
    "    s_period_returns_acc_fx_expected[date] = _period_return_acc_fx_expected\n",
    "    _period_return_acc_gap = _period_return_acc_fx - _period_return_acc_fx_expected\n",
    "    s_period_returns_acc_gap[date] = _period_return_acc_gap\n",
    "    s_returns_acc_gap[date] = _period_return_acc_gap + _return_acc_gap\n",
    "\n",
    "    rebalance_date = date in rebalance_dates\n",
    "    if rebalance_date and date != start_date:\n",
    "        _beta = df_trading_period.loc[date, \"beta\"]\n",
    "        # _period_factor_acc_fx = 1\n",
    "        # _period_factor_acc_cds = 1\n",
    "        _period_return_acc_fx = 0\n",
    "        _period_return_acc_cds = 0\n",
    "        period += 1\n",
    "        _signal = 1 if _period_return_acc_gap >= 0 else -1\n",
    "        _return_acc_gap = (1 + _period_return_acc_gap) * (1 + _return_acc_gap) - 1\n",
    "\n",
    "s_returns_acc_gap.plot()"
   ]
  },
  {
   "cell_type": "code",
   "execution_count": null,
   "metadata": {},
   "outputs": [],
   "source": [
    "s_returns_acc_gap"
   ]
  },
  {
   "cell_type": "code",
   "execution_count": null,
   "metadata": {},
   "outputs": [],
   "source": [
    "s_returns_acc_gap.plot()"
   ]
  },
  {
   "cell_type": "code",
   "execution_count": null,
   "metadata": {},
   "outputs": [],
   "source": [
    "df_results_period = pd.concat(\n",
    "    [\n",
    "        s_period_returns_acc_fx,\n",
    "        s_period_returns_acc_cds,\n",
    "        s_period_returns_acc_fx_expected,\n",
    "        s_period_returns_acc_gap,\n",
    "    ],\n",
    "    axis=1,\n",
    ")\n",
    "(1 + s_period_returns_acc_gap)"
   ]
  },
  {
   "cell_type": "markdown",
   "metadata": {},
   "source": [
    "# Analysis"
   ]
  },
  {
   "cell_type": "markdown",
   "metadata": {},
   "source": [
    "## Plot regression parameters"
   ]
  },
  {
   "cell_type": "code",
   "execution_count": null,
   "metadata": {},
   "outputs": [],
   "source": [
    "# plot return\n",
    "fig, axes = plt.subplots(figsize=(18, 12), nrows=2)\n",
    "\n",
    "axes[0].set_title(\"BRL x Brazil CDS\")\n",
    "((1 + df_aux.iloc[:, :2]).cumprod() - 1).plot(ax=axes[0], color=[\"blue\", \"orange\"])\n",
    "axes[0].legend()\n",
    "\n",
    "# Add gridlines to the first plot\n",
    "axes[0].grid(True, color=\"gray\", linestyle=\"--\")\n",
    "\n",
    "# Add a horizontal line at y=0 to the first plot\n",
    "axes[0].axhline(y=0, color=\"black\")\n",
    "\n",
    "# Move the y-axis label and ticks to the right for the first plot\n",
    "axes[0].yaxis.set_label_position(\"right\")\n",
    "axes[0].yaxis.tick_right()\n",
    "axes[0].set_ylabel(\"Cumulative Log Returns\")\n",
    "\n",
    "# Apply the percentage formatter to the first plot\n",
    "axes[0].yaxis.set_major_formatter(FuncFormatter(_percentage_formatter))\n",
    "\n",
    "# Set x-axis limits to the first and last data points\n",
    "axes[0].set_xlim(df_aux.index.min(), df_aux.index.max())\n",
    "\n",
    "# beta and alpha plot\n",
    "df_aux[\"beta\"].plot(ax=axes[1], color=\"blue\", label=\"Beta\")\n",
    "ax2 = axes[1].twinx()\n",
    "df_aux[\"alpha\"].plot(ax=ax2, color=\"orange\", label=\"Alpha\")\n",
    "\n",
    "# Add gridlines to the second plot\n",
    "axes[1].grid(True, color=\"gray\", linestyle=\"--\")\n",
    "\n",
    "# Set y-axis labels\n",
    "axes[1].set_ylabel(\"Beta\")\n",
    "ax2.set_ylabel(\"Alpha\")\n",
    "\n",
    "# Set x-axis limits to the first and last data points\n",
    "axes[1].set_xlim(df_aux.index.min(), df_aux.index.max())\n",
    "\n",
    "y_min, y_max = axes[1].get_ylim()\n",
    "y_range = y_max - y_min\n",
    "y_mid = (y_max + y_min)/2\n",
    "axes[1].set_ylim(y_mid - y_range / 2, y_mid + y_range / 2 * 1.2)\n",
    "\n",
    "y_min, y_max = ax2.get_ylim()\n",
    "y_range = y_max - y_min\n",
    "y_mid = (y_max + y_min) / 2\n",
    "ax2.set_ylim(y_mid - y_range / 2, y_mid + y_range / 2 * 1.2)\n",
    "\n",
    "# Combine legends from both axes\n",
    "lines1, labels1 = axes[1].get_legend_handles_labels()\n",
    "lines2, labels2 = ax2.get_legend_handles_labels()\n",
    "axes[1].legend(lines1 + lines2, labels1 + labels2, loc=\"upper left\", ncol=2)\n",
    "\n",
    "plt.tight_layout(rect=[0, 0, 1, 0.96])  # Adjust the layout to make space for the title\n",
    "\n",
    "plt.show()\n",
    "plt.close()"
   ]
  },
  {
   "cell_type": "markdown",
   "metadata": {},
   "source": []
  }
 ],
 "metadata": {
  "kernelspec": {
   "display_name": "bwgi",
   "language": "python",
   "name": "python3"
  },
  "language_info": {
   "codemirror_mode": {
    "name": "ipython",
    "version": 3
   },
   "file_extension": ".py",
   "mimetype": "text/x-python",
   "name": "python",
   "nbconvert_exporter": "python",
   "pygments_lexer": "ipython3",
   "version": "3.9.19"
  }
 },
 "nbformat": 4,
 "nbformat_minor": 2
}
