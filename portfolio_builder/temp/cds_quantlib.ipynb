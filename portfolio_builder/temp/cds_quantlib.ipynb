{
 "cells": [
  {
   "cell_type": "code",
   "execution_count": 1,
   "metadata": {},
   "outputs": [],
   "source": [
    "import QuantLib as ql\n",
    "import matplotlib.pyplot as plt\n",
    "import numpy as np"
   ]
  },
  {
   "cell_type": "code",
   "execution_count": 28,
   "metadata": {},
   "outputs": [
    {
     "data": {
      "text/plain": [
       "QuantLib.QuantLib.RelinkableDefaultProbabilityTermStructureHandle"
      ]
     },
     "execution_count": 28,
     "metadata": {},
     "output_type": "execute_result"
    }
   ],
   "source": [
    "type(probabilityCurve)"
   ]
  },
  {
   "cell_type": "code",
   "execution_count": 27,
   "metadata": {},
   "outputs": [
    {
     "data": {
      "text/plain": [
       "True"
      ]
     },
     "execution_count": 27,
     "metadata": {},
     "output_type": "execute_result"
    }
   ],
   "source": [
    "isinstance(discountCurve, ql.YieldTermStructureHandle)"
   ]
  },
  {
   "cell_type": "code",
   "execution_count": 29,
   "metadata": {},
   "outputs": [
    {
     "data": {
      "text/plain": [
       "1426417.9885900372"
      ]
     },
     "execution_count": 29,
     "metadata": {},
     "output_type": "execute_result"
    }
   ],
   "source": [
    "notional: float = 10_000_000\n",
    "spread: float = 0.0458\n",
    "recovery: float = 0.25\n",
    "trade_date: ql.Date = ql.Date(9, 5, 2024)\n",
    "termDate: ql.Date = ql.Date(20, 6, 2029)\n",
    "protection_side: bool = ql.Protection.Buyer\n",
    "\n",
    "dep_tenors = [1, 2, 3, 6, 12]\n",
    "dep_quotes = [\n",
    "    0.053209,\n",
    "    0.053240,\n",
    "    0.053256,\n",
    "    0.05293,\n",
    "    0.051551,\n",
    "]\n",
    "swap_tenors = [2, 3, 4, 5, 6, 7, 8, 9, 10, 12, 15, 20, 25, 30]\n",
    "swap_quotes = [\n",
    "    0.047535,\n",
    "    0.045104,\n",
    "    0.043555,\n",
    "    0.042585,\n",
    "    0.041992,\n",
    "    0.041649,\n",
    "    0.041395,\n",
    "    0.041235,\n",
    "    0.041149,\n",
    "    0.041115,\n",
    "    0.041111,\n",
    "    0.040735,\n",
    "    0.039775,\n",
    "    0.038805,\n",
    "]\n",
    "\n",
    "ql.Settings.instance().evaluationDate = trade_date\n",
    "ql.IborCoupon.createAtParCoupons()\n",
    "\n",
    "\n",
    "isdaRateHelpers: list[ql.DepositRateHelper] = [\n",
    "    ql.DepositRateHelper(\n",
    "        quote,\n",
    "        tenor * ql.Period(ql.Monthly),\n",
    "        2,\n",
    "        ql.WeekendsOnly(),\n",
    "        ql.ModifiedFollowing,\n",
    "        False,\n",
    "        ql.Actual360(),\n",
    "    )\n",
    "    for quote, tenor in zip(dep_quotes, dep_tenors)\n",
    "]\n",
    "isda_ibor: list[ql.IborIndex] = ql.IborIndex(\n",
    "    \"IsdaIbor\",\n",
    "    3 * ql.Period(ql.Monthly),\n",
    "    2,\n",
    "    ql.USDCurrency(),\n",
    "    ql.WeekendsOnly(),\n",
    "    ql.ModifiedFollowing,\n",
    "    False,\n",
    "    ql.Actual360(),\n",
    ")\n",
    "isdaRateHelpers += [\n",
    "    ql.SwapRateHelper(\n",
    "        swap_quotes[i],\n",
    "        swap_tenors[i] * ql.Period(ql.Annual),\n",
    "        ql.WeekendsOnly(),\n",
    "        ql.Semiannual,\n",
    "        ql.ModifiedFollowing,\n",
    "        ql.Thirty360(ql.Thirty360.BondBasis),\n",
    "        isda_ibor,\n",
    "    )\n",
    "    for i in range(len(swap_tenors))\n",
    "]\n",
    "\n",
    "# spot_date: ql.Date = ql.WeekendsOnly().advance(trade_date, 2 * ql.Period(ql.Daily))\n",
    "\n",
    "swap_curve: ql.PiecewiseFlatForward = ql.PiecewiseFlatForward(\n",
    "    trade_date, isdaRateHelpers, ql.Actual365Fixed()\n",
    ")\n",
    "discountCurve: ql.YieldTermStructureHandle = ql.YieldTermStructureHandle(swap_curve)\n",
    "probabilityCurve: ql.RelinkableDefaultProbabilityTermStructureHandle = (\n",
    "    ql.RelinkableDefaultProbabilityTermStructureHandle()\n",
    ")\n",
    "\n",
    "\n",
    "upfront_date = ql.WeekendsOnly().advance(trade_date, 3 * ql.Period(ql.Daily))\n",
    "cdsSchedule: ql.Schedule = ql.Schedule(\n",
    "    trade_date,\n",
    "    termDate,\n",
    "    3 * ql.Period(ql.Monthly),\n",
    "    ql.WeekendsOnly(),\n",
    "    ql.Following,\n",
    "    ql.Unadjusted,\n",
    "    ql.DateGeneration.CDS,\n",
    "    False,\n",
    ")\n",
    "\n",
    "quotedTrade: ql.CreditDefaultSwap = ql.CreditDefaultSwap(\n",
    "    protection_side,\n",
    "    notional,\n",
    "    0,\n",
    "    spread,\n",
    "    cdsSchedule,\n",
    "    ql.Following,\n",
    "    ql.Actual360(),\n",
    "    True,\n",
    "    True,\n",
    "    trade_date,\n",
    "    upfront_date,\n",
    "    ql.FaceValueClaim(),\n",
    "    ql.Actual360(True),\n",
    ")\n",
    "\n",
    "h: float = quotedTrade.impliedHazardRate(\n",
    "    0,\n",
    "    discountCurve,\n",
    "    ql.Actual365Fixed(),\n",
    "    recovery,\n",
    "    1e-10,\n",
    "    ql.CreditDefaultSwap.ISDA,\n",
    ")\n",
    "\n",
    "probabilityCurve.linkTo(\n",
    "    ql.FlatHazardRate(\n",
    "        0,\n",
    "        ql.WeekendsOnly(),\n",
    "        ql.QuoteHandle(ql.SimpleQuote(h)),\n",
    "        ql.Actual365Fixed(),\n",
    "    )\n",
    ")\n",
    "\n",
    "engine: ql.IsdaCdsEngine = ql.IsdaCdsEngine(probabilityCurve, recovery, discountCurve)\n",
    "conventionalTrade: ql.CreditDefaultSwap = ql.CreditDefaultSwap(\n",
    "    protection_side,\n",
    "    notional,\n",
    "    0,\n",
    "    0.01,\n",
    "    cdsSchedule,\n",
    "    ql.Following,\n",
    "    ql.Actual360(),\n",
    "    True,\n",
    "    True,\n",
    "    trade_date,\n",
    "    upfront_date,\n",
    "    ql.FaceValueClaim(),\n",
    "    ql.Actual360(True),\n",
    ")\n",
    "conventionalTrade.setPricingEngine(engine)\n",
    "upfront: float = conventionalTrade.notional() * conventionalTrade.fairUpfront()\n",
    "upfront"
   ]
  },
  {
   "cell_type": "code",
   "execution_count": 42,
   "metadata": {},
   "outputs": [],
   "source": [
    "import pandas as pd"
   ]
  },
  {
   "cell_type": "code",
   "execution_count": 46,
   "metadata": {},
   "outputs": [
    {
     "data": {
      "text/plain": [
       "<Axes: >"
      ]
     },
     "execution_count": 46,
     "metadata": {},
     "output_type": "execute_result"
    },
    {
     "data": {
      "image/png": "[encoded data removed]",
      "text/plain": [
       "<Figure size 640x480 with 1 Axes>"
      ]
     },
     "metadata": {},
     "output_type": "display_data"
    }
   ],
   "source": [
    "dates = [ql.WeekendsOnly().advance(trade_date, t * ql.Period(ql.Years)) for t in range(0, 6)]\n",
    "pd.Series([probabilityCurve.defaultProbability(date) for date in dates]).plot()"
   ]
  },
  {
   "cell_type": "code",
   "execution_count": 39,
   "metadata": {},
   "outputs": [
    {
     "data": {
      "text/plain": [
       "0.0"
      ]
     },
     "execution_count": 39,
     "metadata": {},
     "output_type": "execute_result"
    }
   ],
   "source": []
  }
 ],
 "metadata": {
  "kernelspec": {
   "display_name": "bwgi",
   "language": "python",
   "name": "python3"
  },
  "language_info": {
   "codemirror_mode": {
    "name": "ipython",
    "version": 3
   },
   "file_extension": ".py",
   "mimetype": "text/x-python",
   "name": "python",
   "nbconvert_exporter": "python",
   "pygments_lexer": "ipython3",
   "version": "3.9.19"
  }
 },
 "nbformat": 4,
 "nbformat_minor": 2
}
