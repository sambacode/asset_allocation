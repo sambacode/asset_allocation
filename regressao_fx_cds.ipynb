{
 "cells": [
  {
   "cell_type": "code",
   "execution_count": 1,
   "metadata": {},
   "outputs": [
    {
     "name": "stderr",
     "output_type": "stream",
     "text": [
      "c:\\Users\\pcampos\\Anaconda3\\envs\\bwgi\\lib\\site-packages\\paramiko\\transport.py:219: CryptographyDeprecationWarning: Blowfish has been deprecated and will be removed in a future release\n",
      "  \"class\": algorithms.Blowfish,\n",
      "c:\\Users\\pcampos\\Anaconda3\\envs\\bwgi\\lib\\site-packages\\snowflake\\sqlalchemy\\base.py:1068: SAWarning: The GenericFunction 'flatten' is already registered and is going to be overridden.\n",
      "  functions.register_function(\"flatten\", flatten)\n"
     ]
    }
   ],
   "source": [
    "import pandas as pd\n",
    "import numpy as np\n",
    "import logging\n",
    "from pathlib import Path\n",
    "from typing import Literal, Optional\n",
    "\n",
    "import pandas as pd\n",
    "from entities import EM_CDS_TRACKER_DICT, FX_TRACKER_DICT\n",
    "from utils import Backtest, load_trackers, clean_stale_prices\n",
    "from pathlib import Path\n",
    "from aamalha.utils.performance import Performance"
   ]
  },
  {
   "cell_type": "code",
   "execution_count": null,
   "metadata": {},
   "outputs": [],
   "source": [
    "fx = load_trackers(FX_TRACKER_DICT).rename(columns=lambda col: col + \"_fx\")\n",
    "cds = load_trackers(EM_CDS_TRACKER_DICT).rename(columns=lambda col: col + \"_cds\")\n",
    "\n",
    "trackers = pd.concat(\n",
    "    [fx, cds],\n",
    "    axis=1,\n",
    ").fillna(method=\"ffill\")\n",
    "trackers = pd.concat(\n",
    "    [clean_stale_prices(trackers[col].copy()) for col in trackers], axis=1\n",
    ")\n",
    "trackers = trackers[:\"2024-09-30\"]\n",
    "trackers"
   ]
  },
  {
   "cell_type": "code",
   "execution_count": null,
   "metadata": {},
   "outputs": [],
   "source": [
    "import matplotlib.pyplot as plt \n",
    "pairs = [\n",
    "    \"BRL\",\n",
    "    \"ZAR\",\n",
    "    # \"CNY\",\n",
    "    \"COP\",\n",
    "    # \"IDR\",\n",
    "    \"MXN\",\n",
    "    # \"MYR\",\n",
    "    # \"RUB\",\n",
    "    \"CLP\",\n",
    "    \"TRY\",\n",
    "]\n",
    "N_DAYS = 21\n",
    "HALFLIFE = 252\n",
    "\n",
    "signals = {}\n",
    "data = {}\n",
    "for code in pairs:\n",
    "    fx = trackers[f\"{code}_fx\"].copy()\n",
    "    cds = trackers[f\"{code}_cds\"].copy()\n",
    "    _index = fx.dropna().index.intersection(cds.dropna().index)\n",
    "    fx = fx.reindex(_index)\n",
    "    fx = fx / fx.iloc[0]\n",
    "    cds = cds.reindex(_index)\n",
    "    cds = cds / cds.iloc[0]\n",
    "    fx = np.log(fx).diff(1).dropna()\n",
    "    cds = np.log(cds).diff(1).dropna()\n",
    "    beta = fx.ewm(halflife=HALFLIFE).cov(cds) / cds.ewm(halflife=HALFLIFE).var()\n",
    "    beta = beta.iloc[HALFLIFE:].reindex(beta.index)\n",
    "    actual_fx_returns = (np.exp(fx.rolling(HALFLIFE).sum()) - 1)\n",
    "    expect_fx_returns = ((np.exp(cds.rolling(HALFLIFE).sum()) - 1) * beta)\n",
    "    alpha = actual_fx_returns - expect_fx_returns\n",
    "    actual_fx_returns.plot()\n",
    "    expect_fx_returns.plot()\n",
    "    alpha.plot()\n",
    "    plt.title(code)\n",
    "    plt.show()\n",
    "    forward_return = np.exp(fx.rolling(21).sum()) - 1\n",
    "    # signal = (alpha > 0).map({True: -1, False: 1}).shift(21) * forward_return\n",
    "    # signals[code] = signal\n",
    "    data[code] = (alpha, forward_return)"
   ]
  },
  {
   "cell_type": "code",
   "execution_count": null,
   "metadata": {},
   "outputs": [],
   "source": [
    "df_signals = pd.concat(signals.values(), axis=1)\n",
    "df_signals.columns = signals.keys()\n",
    "df_signals.mean(axis=1).mean()"
   ]
  },
  {
   "cell_type": "markdown",
   "metadata": {},
   "source": [
    "performar uma regress~ao dos sign(\"alpha\") (exog) nos retornos de 1 mês\n",
    "\"forward_return\" (endog),\n",
    "sendo que temos timeseries desses dados e para 8 economias (\"pairs\") \n",
    "\n",
    "\n",
    "pairs = [\n",
    "    \"BRL\",\n",
    "    \"ZAR\",\n",
    "    \"CNY\",\n",
    "    \"COP\",\n",
    "    \"IDR\",\n",
    "    \"MXN\",\n",
    "    \"MYR\",\n",
    "    \"RUB\",\n",
    "    \"CLP\",\n",
    "    \"TRY\",\n",
    "]"
   ]
  },
  {
   "cell_type": "markdown",
   "metadata": {},
   "source": []
  },
  {
   "cell_type": "code",
   "execution_count": null,
   "metadata": {},
   "outputs": [],
   "source": [
    "sub_dfs = []\n",
    "for code, (alpha, fwd_return) in data.items():\n",
    "    # alpha = data[\"BRL\"][0]\n",
    "    alpha.name = \"alpha\"\n",
    "    # fwd_return = data[\"BRL\"][1]\n",
    "    fwd_return.name = \"fwd_return\"\n",
    "    base = pd.concat([alpha, fwd_return], axis=1)\n",
    "    base[\"country\"] = code\n",
    "    # base = base.set_index(\"country\", append=True)\n",
    "    sub_dfs.append(base)  \n",
    "\n",
    "base = pd.concat(sub_dfs)\n",
    "base = base.dropna(how=\"any\")\n",
    "base[\"sign\"] = (base[\"alpha\"] > 0).map({True: -1, False: 1})\n",
    "# base = base.drop(\"alpha\", axis=1)\n",
    "base"
   ]
  },
  {
   "cell_type": "code",
   "execution_count": null,
   "metadata": {},
   "outputs": [],
   "source": [
    "# base.pivot(columns=[\"country\"], values=[\"fwd_return\", \"sign\"])#.dropna(how=\"any\", axis=1)"
   ]
  },
  {
   "cell_type": "code",
   "execution_count": null,
   "metadata": {},
   "outputs": [],
   "source": [
    "base"
   ]
  },
  {
   "cell_type": "code",
   "execution_count": null,
   "metadata": {},
   "outputs": [],
   "source": [
    "import statsmodels.api as sm\n",
    "\n",
    "X = base[\"alpha\"]  # Variável independente\n",
    "y = base[\"fwd_return\"]  # Variável dependente\n",
    "\n",
    "# Adicionar uma constante à variável independente para o intercepto\n",
    "X = sm.add_constant(X)\n",
    "\n",
    "# Ajustar o modelo de regressão\n",
    "modelo = sm.OLS(y, X).fit()\n",
    "\n",
    "# Exibir os resultados\n",
    "print(modelo.summary())"
   ]
  },
  {
   "cell_type": "code",
   "execution_count": null,
   "metadata": {},
   "outputs": [],
   "source": [
    "from linearmodels.panel import PanelOLS\n",
    "base = base.reset_index()\n",
    "\n",
    "modelo = PanelOLS(\n",
    "    dependent=base[[\"fwd_return\"]],\n",
    "    exog=base[[\"sign\"]],\n",
    "    time_effects=True,\n",
    "    entity_effects=True,\n",
    ")\n",
    "\n",
    "\n",
    "# # Especificar o modelo com efeitos fixos por entidade (country) e tempo\n",
    "# modelo = PanelOLS.from_formula(\n",
    "#     \"fwd_return ~ sign + EntityEffects + TimeEffects\", data=base\n",
    "# )\n",
    "\n",
    "# Ajustar o modelo\n",
    "resultados = modelo.fit()\n",
    "\n",
    "# Exibir os resultados\n",
    "print(resultados.summary)"
   ]
  }
 ],
 "metadata": {
  "kernelspec": {
   "display_name": "bwgi",
   "language": "python",
   "name": "python3"
  },
  "language_info": {
   "codemirror_mode": {
    "name": "ipython",
    "version": 3
   },
   "file_extension": ".py",
   "mimetype": "text/x-python",
   "name": "python",
   "nbconvert_exporter": "python",
   "pygments_lexer": "ipython3",
   "version": "3.9.19"
  }
 },
 "nbformat": 4,
 "nbformat_minor": 2
}
