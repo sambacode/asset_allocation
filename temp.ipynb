{
 "cells": [
  {
   "cell_type": "code",
   "execution_count": 1,
   "metadata": {},
   "outputs": [
    {
     "name": "stderr",
     "output_type": "stream",
     "text": [
      "c:\\Users\\pcampos\\Anaconda3\\envs\\bwgi\\lib\\site-packages\\paramiko\\transport.py:219: CryptographyDeprecationWarning: Blowfish has been deprecated\n",
      "  \"class\": algorithms.Blowfish,\n"
     ]
    }
   ],
   "source": [
    "import argparse\n",
    "import logging\n",
    "from pathlib import Path\n",
    "from typing import Literal, Optional\n",
    "\n",
    "import numpy as np\n",
    "import pandas as pd\n",
    "from utils import (\n",
    "    calculate_weights,\n",
    "    get_available_trackers,\n",
    "    load_trackers,\n",
    "    get_rebalance_dates,\n",
    "    cap_long_only_weights,\n",
    ")\n",
    "from backtest import backtest2\n",
    "from entities import FX_TRACKER_DICT, EM_CDS_TRACKER_DICT\n",
    "\n",
    "from bwlogger import StyleAdapter, basic_setup\n",
    "from bwutils import open_file\n",
    "from portfolio.construction import calculate_weights as calculate_weights_fh"
   ]
  },
  {
   "cell_type": "code",
   "execution_count": null,
   "metadata": {},
   "outputs": [],
   "source": [
    "dict_backtest = {}"
   ]
  },
  {
   "cell_type": "code",
   "execution_count": null,
   "metadata": {},
   "outputs": [],
   "source": [
    "EM_CDS_TRACKER_DICT = {\n",
    "    \"AED\": \"GSCDABBE Index\", # no FX Tracker\n",
    "    \"ARS\": \"GSCDARBE Index\",\n",
    "    \"BRL\": \"GSCDBRBE Index\",\n",
    "    \"CLP\": \"GSCDCLBE Index\",\n",
    "    \"CNY\": \"GSCDCHBE Index\",\n",
    "    \"COP\": \"GSCDCOBE Index\",\n",
    "    \"IDR\": \"GSCDINBE Index\",\n",
    "    \"MYR\": \"GSCDMABE Index\",\n",
    "    \"MXN\": \"GSCDMEBE Index\",\n",
    "    \"PAB\": \"GSCDPABE Index\",\n",
    "    \"PEN\": \"GSCDPEBE Index\",\n",
    "    \"PHP\": \"GSCDPHBE Index\",\n",
    "    \"QAR\": \"GSCDQABE Index\",\n",
    "    \"RUB\": \"GSCDRUBE Index\",\n",
    "    \"SAR\": \"GSCDSABE Index\",\n",
    "    \"ZAR\": \"GSCDSOBE Index\",\n",
    "    \"TRY\": \"GSCDTUBE Index\",\n",
    "    \"UAH\": \"GSCDUKBE Index\",\n",
    "}\n",
    "FX_TRACKER_DICT = {\n",
    "    \"ARS\": \"JPFCTARS Index\",\n",
    "    \"BRL\": \"JPFCTBRL Index\",\n",
    "    \"CLP\": \"JPFCTCLP Index\",\n",
    "    \"CNY\": \"JPFCTCNY Index\",\n",
    "    \"COP\": \"JPFCTCOP Index\",\n",
    "    \"CZK\": \"JPFCTCZK Index\",  # no CDS tracker\n",
    "    \"HUF\": \"JPFCTHUF Index\",  # no CDS tracker\n",
    "    \"IDR\": \"JPFCTIDR Index\",\n",
    "    \"INR\": \"JPFCTINR Index\",  # no CDS tracker\n",
    "    \"MXN\": \"JPFCTMXN Index\",\n",
    "    \"MYR\": \"JPFCTMYR Index\",\n",
    "    \"PAB\": \"JPFCTPAB Index\",  # pegged to dollar?\n",
    "    \"PEN\": \"JPFCTPEN Index\",\n",
    "    \"PHP\": \"JPFCTPHP Index\",\n",
    "    \"PLN\": \"JPFCTPLN Index\", # no CDS tracker\n",
    "    \"QAR\": \"JPFCTQAR Index\",\n",
    "    \"RON\": \"JPFCTRON Index\",  # no CDS tracker\n",
    "    \"RUB\": \"JPFCTRUB Index\",\n",
    "    \"SAR\": \"JPFCTSAR Index\",  # pegged to dollar?\n",
    "    \"SGD\": \"JPFCTSGD Index\",  # no CDS tracker\n",
    "    \"THB\": \"JPFCTTHB Index\",  # no CDS tracker\n",
    "    \"TRY\": \"JPFCTTRY Index\",\n",
    "    \"TWD\": \"JPFCTTWD Index\",  # no CDS tracker\n",
    "    \"UAH\": \"JPFCTUAH Index\",\n",
    "    \"ZAR\": \"JPFCTZAR Index\",\n",
    "}\n",
    "\n"
   ]
  },
  {
   "cell_type": "code",
   "execution_count": 2,
   "metadata": {},
   "outputs": [],
   "source": [
    "df_fx = load_trackers(FX_TRACKER_DICT)\n",
    "df_cds = load_trackers(EM_CDS_TRACKER_DICT)\n",
    "new_index = df_fx.index.union(df_cds.index).sort_values()\n",
    "df_fx = df_fx.reindex(index=new_index, method=\"ffill\").dropna(how=\"all\")\n",
    "df_cds = df_cds.reindex(index=new_index, method=\"ffill\").dropna(how=\"all\")"
   ]
  },
  {
   "cell_type": "code",
   "execution_count": null,
   "metadata": {},
   "outputs": [],
   "source": [
    "CDS_FX_PAIRS = df_fx.columns.intersection(df_cds.columns).tolist()\n",
    "CDS_FX_PAIRS"
   ]
  },
  {
   "cell_type": "code",
   "execution_count": null,
   "metadata": {},
   "outputs": [],
   "source": [
    "dict_backtest[\"cdx_em\"] = load_trackers({\"CDX EM\": \"EREM5LD5 Index\"})\n",
    "dict_backtest[\"bench_fx_full_ivp_cap_1/3\"] = backtest2(\n",
    "    df_fx, method_weights=\"ivp\", cap=1 / 3, vol_target=0.1\n",
    ")[0][\"assets\"]\n",
    "# df_backtest.to_excel(\n",
    "#     OUTPUT_FOLDER.joinpath(\"portfolio_currencies.xlsx\"), index_label=\"Date\"\n",
    "# )\n",
    "dict_backtest[\"bench_cds_full_ivp_cap_1/3\"] = backtest2(\n",
    "    df_cds, method_weights=\"ivp\", cap=1 / 3, vol_target=0.1\n",
    ")[0][\"assets\"]\n",
    "dict_backtest[\"bench_fx_w_pair_ivp_cap_1/3\"] = backtest2(\n",
    "    df_fx[CDS_FX_PAIRS], method_weights=\"ivp\", cap=1 / 3, vol_target=0.1\n",
    ")[0][\"assets\"]\n",
    "# df_backtest.to_excel(\n",
    "#     OUTPUT_FOLDER.joinpath(\"portfolio_currencies.xlsx\"), index_label=\"Date\"\n",
    "# )\n",
    "dict_backtest[\"bench_cds_w_pair_ivp_cap_1/3\"] = backtest2(\n",
    "    df_cds[CDS_FX_PAIRS], method_weights=\"ivp\", cap=1 / 3, vol_target=0.1\n",
    ")[0][\"assets\"]"
   ]
  },
  {
   "cell_type": "code",
   "execution_count": null,
   "metadata": {},
   "outputs": [],
   "source": [
    "def backtest_long_cds_short_fx_pairs_eqw(df_fx, df_cds, inverted=False):\n",
    "    name = \"long_fx_short_cds\" if inverted else \"long_cds_short_fx\"\n",
    "    temp_dict_backtest = {}\n",
    "    for ccy in CDS_FX_PAIRS:\n",
    "        if ccy in [\"CNY\", \"MYR\", \"RUB\"]:  # not enough data\n",
    "            continue\n",
    "        s_fx = df_fx[ccy].copy().dropna()\n",
    "        s_fx.name = s_fx.name + \"_fx\"\n",
    "        s_cds = df_cds[ccy].copy().dropna()  # long CDS(sell protection)\n",
    "        s_cds.name = s_cds.name + \"_cds\"\n",
    "        if inverted:\n",
    "            s_cds = s_cds.iloc[0] * s_cds / 100\n",
    "        else:\n",
    "            s_fx = s_fx.iloc[0] / s_fx * 100\n",
    "\n",
    "        df_long_short = pd.concat([s_fx, s_cds], axis=1, join=\"inner\").dropna()\n",
    "        s = backtest2(df_long_short, method_weights=\"ivp\", vol_target=0.1)[0][\"assets\"]\n",
    "        s.name = f\"{name}_{ccy.lower()}\"\n",
    "        temp_dict_backtest[s.name] = s\n",
    "\n",
    "    tracker_df = pd.concat(temp_dict_backtest.values(), axis=1).copy().dropna(how=\"all\")\n",
    "    backtest = pd.Series(index=tracker_df.index, name=f\"bench_{name}_eqw\")\n",
    "    backtest.iloc[0] = 100.0\n",
    "    n_available = tracker_df.loc[backtest.index[0]].dropna().count()\n",
    "    w = 1 / n_available\n",
    "    q = backtest.iloc[0] * w / tracker_df.iloc[0]\n",
    "    for t, tm1 in zip(backtest.index[1:], backtest.index[:-1]):\n",
    "        pnl = ((tracker_df.loc[t] - tracker_df.loc[tm1]) * q).sum()\n",
    "        backtest[t] = backtest[tm1] + pnl\n",
    "        if t.month != tm1.month:\n",
    "            n_available = tracker_df.loc[tm1].dropna().count()\n",
    "            w = 1 / n_available\n",
    "            q = backtest[tm1] * w / tracker_df.loc[tm1]\n",
    "    temp_dict_backtest[f\"bench_{name}_eqw\"] = backtest\n",
    "    return temp_dict_backtest\n",
    "\n",
    "teste = backtest_long_cds_short_fx_pairs_eqw(df_fx, df_cds, inverted=True)\n",
    "pd.concat(teste.values(), axis=1).to_clipboard()"
   ]
  },
  {
   "cell_type": "code",
   "execution_count": null,
   "metadata": {},
   "outputs": [],
   "source": [
    "ccy = \"BRL\"\n",
    "s_fx = df_fx[ccy].copy().dropna()\n",
    "s_fx.name = s_fx.name + \"_fx\"\n",
    "s_cds = df_cds[ccy].copy().dropna()  # long CDS(sell protection)\n",
    "s_cds.name = s_cds.name + \"_cds\"\n",
    "s_fx = s_fx.loc[s_cds.index.min() :]\n",
    "s_fx = s_fx.iloc[0] / s_fx * 100\n",
    "\n",
    "df_long_short = pd.concat([s_fx, s_cds], axis=1, join=\"inner\").dropna()\n",
    "backtest_teste, position_teste = backtest2(\n",
    "    df_long_short, method_weights=\"ivp\", vol_target=0.1\n",
    ")\n",
    "backtest_teste.plot()\n",
    "backtest_teste.to_clipboard(excel=True)"
   ]
  },
  {
   "cell_type": "code",
   "execution_count": null,
   "metadata": {},
   "outputs": [],
   "source": [
    "list_beta = []\n",
    "for ccy in CDS_FX_PAIRS:\n",
    "    index_intersect = (\n",
    "        df_fx[ccy].dropna().index.intersection(df_cds[ccy].dropna().index)\n",
    "    )[252*2:]\n",
    "    corr = (\n",
    "        np.log(df_fx[ccy])\n",
    "        .diff(21)\n",
    "        .ewm(halflife=252)\n",
    "        .corr(np.log(df_cds[ccy]).diff(21))\n",
    "        .loc[index_intersect]\n",
    "    )\n",
    "    beta = (\n",
    "        corr\n",
    "        * np.log(df_fx[ccy]).diff(21).ewm(halflife=252).std()\n",
    "        / np.log(df_cds[ccy]).diff(21).ewm(halflife=252).std()\n",
    "    )\n",
    "    list_beta.append(beta)\n",
    "\n",
    "df_betas = pd.concat(list_beta, axis=1)\n",
    "df_betas.plot()"
   ]
  },
  {
   "cell_type": "code",
   "execution_count": null,
   "metadata": {},
   "outputs": [],
   "source": [
    "list_beta = []\n",
    "for ccy in CDS_FX_PAIRS:\n",
    "    index_intersect = (\n",
    "        df_fx[ccy].dropna().index.intersection(df_cds[ccy].dropna().index)\n",
    "    )[252 * 2 :]\n",
    "    corr = (\n",
    "        np.log(df_fx[ccy])\n",
    "        .diff(21)\n",
    "        .expanding()\n",
    "        .corr(np.log(df_cds[ccy]).diff(21))\n",
    "        .loc[index_intersect]\n",
    "    )\n",
    "    beta = (\n",
    "        corr\n",
    "        * np.log(df_fx[ccy]).diff(21).expanding().std()\n",
    "        / np.log(df_cds[ccy]).diff(21).expanding().std()\n",
    "    )\n",
    "    list_beta.append(beta)\n",
    "\n",
    "df_betas = pd.concat(list_beta, axis=1)\n",
    "df_betas.plot()"
   ]
  },
  {
   "cell_type": "code",
   "execution_count": null,
   "metadata": {},
   "outputs": [],
   "source": [
    "df_betas"
   ]
  }
 ],
 "metadata": {
  "kernelspec": {
   "display_name": "bwgi",
   "language": "python",
   "name": "python3"
  },
  "language_info": {
   "codemirror_mode": {
    "name": "ipython",
    "version": 3
   },
   "file_extension": ".py",
   "mimetype": "text/x-python",
   "name": "python",
   "nbconvert_exporter": "python",
   "pygments_lexer": "ipython3",
   "version": "3.9.19"
  }
 },
 "nbformat": 4,
 "nbformat_minor": 2
}
