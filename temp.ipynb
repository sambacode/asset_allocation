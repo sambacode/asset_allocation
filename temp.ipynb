{
 "cells": [
  {
   "cell_type": "code",
   "execution_count": 1,
   "metadata": {},
   "outputs": [],
   "source": [
    "import pandas as pd"
   ]
  },
  {
   "cell_type": "code",
   "execution_count": 10,
   "metadata": {},
   "outputs": [
    {
     "data": {
      "text/plain": [
       "0    -0.200000\n",
       "1     0.200000\n",
       "2    -0.226795\n",
       "3     0.179055\n",
       "4     0.391338\n",
       "5    -0.446738\n",
       "6     0.478614\n",
       "7     0.064494\n",
       "8     0.135552\n",
       "9    -0.434489\n",
       "10   -0.215325\n",
       "11    0.038708\n",
       "12   -0.259914\n",
       "13   -0.238943\n",
       "14    0.102720\n",
       "15   -0.117351\n",
       "16    0.464202\n",
       "17    0.461846\n",
       "18    0.191861\n",
       "19   -0.310269\n",
       "Name: sample, dtype: float64"
      ]
     },
     "execution_count": 10,
     "metadata": {},
     "output_type": "execute_result"
    }
   ],
   "source": [
    "s_sample = pd.read_clipboard(names=['sample']).iloc[:, 0]\n",
    "s_sample"
   ]
  },
  {
   "cell_type": "code",
   "execution_count": 99,
   "metadata": {},
   "outputs": [],
   "source": [
    "s_testing = pd.Series([1, 0, 0 , 0, 0, 0])"
   ]
  },
  {
   "cell_type": "code",
   "execution_count": 101,
   "metadata": {},
   "outputs": [
    {
     "data": {
      "text/plain": [
       "0         NaN\n",
       "1    0.500000\n",
       "2    0.326485\n",
       "3    0.239800\n",
       "4    0.187847\n",
       "5    0.153259\n",
       "dtype: float64"
      ]
     },
     "execution_count": 101,
     "metadata": {},
     "output_type": "execute_result"
    }
   ],
   "source": [
    "s_testing.ewm(alpha=0.04).var()"
   ]
  },
  {
   "cell_type": "code",
   "execution_count": 106,
   "metadata": {},
   "outputs": [
    {
     "data": {
      "text/plain": [
       "0         NaN\n",
       "1    0.500000\n",
       "2    0.489592\n",
       "3    0.479201\n",
       "4    0.468837\n",
       "5    0.458506\n",
       "dtype: float64"
      ]
     },
     "execution_count": 106,
     "metadata": {},
     "output_type": "execute_result"
    }
   ],
   "source": [
    "s_testing.ewm(alpha=0.04, adjust=False).var()"
   ]
  },
  {
   "cell_type": "code",
   "execution_count": 55,
   "metadata": {},
   "outputs": [
    {
     "data": {
      "text/plain": [
       "0          NaN\n",
       "1     0.080000\n",
       "2     0.057410\n",
       "3     0.054390\n",
       "4     0.074113\n",
       "5     0.110115\n",
       "6     0.129855\n",
       "7     0.107691\n",
       "8     0.091810\n",
       "9     0.111699\n",
       "10    0.103108\n",
       "11    0.090937\n",
       "12    0.087015\n",
       "13    0.081597\n",
       "14    0.075677\n",
       "15    0.068676\n",
       "16    0.085802\n",
       "17    0.096607\n",
       "18    0.089955\n",
       "19    0.092902\n",
       "Name: sample, dtype: float64"
      ]
     },
     "execution_count": 55,
     "metadata": {},
     "output_type": "execute_result"
    }
   ],
   "source": [
    "s_sample.expanding().var()\n",
    "s_sample.ewm(alpha=0.06, adjust=True).var()"
   ]
  },
  {
   "cell_type": "code",
   "execution_count": 232,
   "metadata": {},
   "outputs": [
    {
     "data": {
      "text/plain": [
       "1201.5109704763752"
      ]
     },
     "execution_count": 232,
     "metadata": {},
     "output_type": "execute_result"
    }
   ],
   "source": [
    "x1.ewm(halflife=21).cov(y).iloc[-1] / x1.ewm(halflife=21).var().iloc[-1]"
   ]
  },
  {
   "cell_type": "code",
   "execution_count": 233,
   "metadata": {},
   "outputs": [
    {
     "data": {
      "text/plain": [
       "0    -821.884858\n",
       "1    1201.510970\n",
       "dtype: float64"
      ]
     },
     "execution_count": 233,
     "metadata": {},
     "output_type": "execute_result"
    }
   ],
   "source": [
    "from typing import Optional\n",
    "\n",
    "\n",
    "def _exponentially_decaying_weights(n, alpha: Optional[float] = None, halflife: Optional[int] = None):\n",
    "    \"\"\"\n",
    "    Exponentially decaying weights for the linear regression.\n",
    "    \n",
    "    \"\"\"\n",
    "    if alpha is None:\n",
    "        if halflife:\n",
    "            alpha = 1 - np.exp(-np.log(2) / halflife)\n",
    "        else:\n",
    "            raise ValueError(\"Either alpha or halflife must be specified.\")        \n",
    "    return [(alpha) * ((1 - alpha) ** (n - i)) for i in range(0, n)]\n",
    "weights = _exponentially_decaying_weights(len(y), halflife=21)\n",
    "np.linalg.inv(X.T @ np.diag(weights) @ X) @ X.T @ np.diag(weights) @ y"
   ]
  },
  {
   "cell_type": "code",
   "execution_count": 237,
   "metadata": {},
   "outputs": [
    {
     "data": {
      "text/plain": [
       "False"
      ]
     },
     "execution_count": 237,
     "metadata": {},
     "output_type": "execute_result"
    },
    {
     "ename": "",
     "evalue": "",
     "output_type": "error",
     "traceback": [
      "\u001b[1;31mThe Kernel crashed while executing code in the current cell or a previous cell. \n",
      "\u001b[1;31mPlease review the code in the cell(s) to identify a possible cause of the failure. \n",
      "\u001b[1;31mClick <a href='https://aka.ms/vscodeJupyterKernelCrash'>here</a> for more info. \n",
      "\u001b[1;31mView Jupyter <a href='command:jupyter.viewOutput'>log</a> for further details."
     ]
    }
   ],
   "source": [
    "0 < 1.1 <1"
   ]
  },
  {
   "cell_type": "code",
   "execution_count": 215,
   "metadata": {},
   "outputs": [
    {
     "name": "stdout",
     "output_type": "stream",
     "text": [
      "                            WLS Regression Results                            \n",
      "==============================================================================\n",
      "Dep. Variable:                      y   R-squared:                       0.884\n",
      "Model:                            WLS   Adj. R-squared:                  0.855\n",
      "Method:                 Least Squares   F-statistic:                     30.41\n",
      "Date:                Sun, 16 Jun 2024   Prob (F-statistic):            0.00528\n",
      "Time:                        13:31:58   Log-Likelihood:                -48.148\n",
      "No. Observations:                   6   AIC:                             100.3\n",
      "Df Residuals:                       4   BIC:                             99.88\n",
      "Df Model:                           1                                         \n",
      "Covariance Type:            nonrobust                                         \n",
      "==============================================================================\n",
      "                 coef    std err          t      P>|t|      [0.025      0.975]\n",
      "------------------------------------------------------------------------------\n",
      "const       -802.3671    903.231     -0.888      0.425   -3310.139    1705.405\n",
      "0           1196.2520    216.924      5.515      0.005     593.975    1798.529\n",
      "==============================================================================\n",
      "Omnibus:                          nan   Durbin-Watson:                   2.699\n",
      "Prob(Omnibus):                    nan   Jarque-Bera (JB):                1.314\n",
      "Skew:                          -1.140   Prob(JB):                        0.518\n",
      "Kurtosis:                       2.760   Cond. No.                         10.8\n",
      "==============================================================================\n",
      "\n",
      "Notes:\n",
      "[1] Standard Errors assume that the covariance matrix of the errors is correctly specified.\n"
     ]
    },
    {
     "name": "stderr",
     "output_type": "stream",
     "text": [
      "c:\\Users\\pcampos\\Anaconda3\\envs\\bwgi\\lib\\site-packages\\statsmodels\\stats\\stattools.py:74: ValueWarning: omni_normtest is not valid with less than 8 observations; 6 samples were given.\n",
      "  warn(\"omni_normtest is not valid with less than 8 observations; %i \"\n"
     ]
    }
   ],
   "source": [
    "y = pd.Series([1.1, 0, 3.3, 4.4, 5.5, 6])*1e3\n",
    "x1 = pd.Series([1, 2, 3, 4, 5, 6])\n",
    "# x2 = pd.Series([1.5, 2, 3.5, 4, 5, 6.5])\n",
    "# X = pd.concat([x1, x2], axis=1)\n",
    "X = x1\n",
    "X = sm.add_constant(X)\n",
    "# weights = [1, 1, 1, 1, 1, 1]\n",
    "alpha = 0.1\n",
    "n = len(y)\n",
    "weights = [(alpha) * ((1 - alpha) ** (5 - i)) for i in range(0, n)]\n",
    "\n",
    "model = sm.WLS(y, X, weights=weights)\n",
    "results = model.fit()\n",
    "print(results.summary())"
   ]
  },
  {
   "cell_type": "code",
   "execution_count": null,
   "metadata": {},
   "outputs": [],
   "source": []
  }
 ],
 "metadata": {
  "kernelspec": {
   "display_name": "bwgi",
   "language": "python",
   "name": "python3"
  },
  "language_info": {
   "codemirror_mode": {
    "name": "ipython",
    "version": 3
   },
   "file_extension": ".py",
   "mimetype": "text/x-python",
   "name": "python",
   "nbconvert_exporter": "python",
   "pygments_lexer": "ipython3",
   "version": "3.9.19"
  }
 },
 "nbformat": 4,
 "nbformat_minor": 2
}
