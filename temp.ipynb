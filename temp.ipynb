{
 "cells": [
  {
   "cell_type": "code",
   "execution_count": 1,
   "metadata": {},
   "outputs": [],
   "source": [
    "import logging\n",
    "from typing import Callable, Literal, Optional, Union\n",
    "\n",
    "import numpy as np\n",
    "import pandas as pd\n",
    "import statsmodels.api as sm\n",
    "from scipy.optimize import minimize\n",
    "\n",
    "from bwlogger import StyleAdapter"
   ]
  },
  {
   "cell_type": "code",
   "execution_count": 2,
   "metadata": {},
   "outputs": [],
   "source": [
    "\n",
    "\n",
    "from utils import (\n",
    "    calculate_portfolio_var,\n",
    "    calculate_risk_contribution, \n",
    "    risk_budget_objective,\n",
    "    total_weight_constraint,\n",
    "    optmize_risk_budget,\n",
    "    calculate_weights\n",
    ")\n",
    "w_clip = pd.Series(\n",
    "    {\n",
    "        0: 0.21965866188326,\n",
    "        1: 0.547691984160487,\n",
    "        2: 0.132499791033892,\n",
    "        3: 0.10015056292236,\n",
    "    }\n",
    ")\n",
    "cov = pd.DataFrame(\n",
    "    {\n",
    "        0: {0: 0.04, 1: 0.002, 2: 0.00625, 3: 0.072},\n",
    "        1: {0: 0.008, 1: 0.01, 2: 0.03125, 3: 0.018},\n",
    "        2: {0: 0.004, 1: 0.005, 2: 0.0625, 3: 0.018},\n",
    "        3: {0: 0.032, 1: 0.002, 2: 0.0125, 3: 0.09},\n",
    "    }\n",
    ")\n",
    "rc_t = pd.Series([1 / 4] * 4, index=cov.index)\n",
    "w0 = [0, 1, 0, 0]\n",
    "x_t = [\n",
    "    0.25,\n",
    "    0.25,\n",
    "    0.25,\n",
    "    0.25,\n",
    "]"
   ]
  },
  {
   "cell_type": "code",
   "execution_count": 4,
   "metadata": {},
   "outputs": [
    {
     "data": {
      "text/plain": [
       "0    0.164354\n",
       "1    0.657414\n",
       "2    0.105186\n",
       "3    0.073046\n",
       "dtype: float64"
      ]
     },
     "execution_count": 4,
     "metadata": {},
     "output_type": "execute_result"
    }
   ],
   "source": [
    "calculate_weights(\"IV\", cov, pd.Series(x_t))"
   ]
  },
  {
   "cell_type": "code",
   "execution_count": 5,
   "metadata": {},
   "outputs": [
    {
     "data": {
      "text/plain": [
       "0    0.219658\n",
       "1    0.547691\n",
       "2    0.132500\n",
       "3    0.100150\n",
       "dtype: float64"
      ]
     },
     "execution_count": 5,
     "metadata": {},
     "output_type": "execute_result"
    }
   ],
   "source": [
    "optmize_risk_budget(cov, pd.Series(x_t), pd.Series(w0), tol=1e-20)"
   ]
  },
  {
   "cell_type": "code",
   "execution_count": null,
   "metadata": {},
   "outputs": [],
   "source": [
    "def _calculate_portfolio_var(w: pd.Series, cov: pd.DataFrame) -> float:\n",
    "    return w.T @ cov @ w\n",
    "\n",
    "\n",
    "def _calculate_risk_contribution(w: pd.Series, cov: pd.DataFrame) -> pd.Series:\n",
    "    vol = _calculate_portfolio_var(w, cov)**0.5\n",
    "    mrc = cov @ w\n",
    "    return mrc * w.T / vol\n",
    "\n",
    "\n",
    "def _risk_budget_objective(\n",
    "    x: pd.Series, risk_pct: pd.Series, cov: pd.DataFrame\n",
    ") -> float:\n",
    "    vol = _calculate_portfolio_var(x, cov)**0.5\n",
    "    rc_t = vol * risk_pct\n",
    "\n",
    "    rc = _calculate_risk_contribution(x, cov)\n",
    "    return np.square(rc - rc_t).sum()\n",
    "\n",
    "\n",
    "def _total_weight_constraint(w: pd.Series) -> float:\n",
    "    return w.sum() - 1.0\n",
    "\n",
    "\n",
    "def _optmize_risk_budget(\n",
    "    cov: pd.DataFrame,\n",
    "    rc_t: Optional[pd.Series] = None,\n",
    "    w0: Optional[pd.Series] = None,\n",
    "    cons: Optional[list[dict[str, Callable[pd.Series, pd.Series]]]] = [],\n",
    "    **params,\n",
    ") -> pd.Series:\n",
    "    n = len(cov.index)\n",
    "    if w0 is None:\n",
    "        w0 = pd.Series([1] * n, index=cov.index) / n\n",
    "    if rc_t is None:\n",
    "        rc_t = pd.Series([1] * n, index=cov.index) / n\n",
    "    cons_sum_1 = {\"type\": \"eq\", \"fun\": _total_weight_constraint}\n",
    "    cons = tuple(cons + [cons_sum_1])\n",
    "\n",
    "    res = minimize(\n",
    "        _risk_budget_objective,\n",
    "        w0,\n",
    "        args=(rc_t, cov),\n",
    "        constraints=cons,\n",
    "        **params,\n",
    "    )\n",
    "    return pd.Series(res.x, index=cov.index)\n",
    "\n",
    "\n",
    "_optmize_risk_budget(cov, pd.Series(x_t), pd.Series(w0), tol=1e-20).values"
   ]
  },
  {
   "cell_type": "code",
   "execution_count": null,
   "metadata": {},
   "outputs": [],
   "source": [
    "def calculate_portfolio_var(w, V):\n",
    "    # function that calculates portfolio risk\n",
    "    w = np.matrix(w)\n",
    "    return (w * V * w.T)[0, 0]\n",
    "\n",
    "\n",
    "def calculate_risk_contribution(w, V):\n",
    "    # function that calculates asset contribution to total risk\n",
    "    w = np.matrix(w)\n",
    "    sigma = np.sqrt(calculate_portfolio_var(w, V))\n",
    "    # Marginal Risk Contribution\n",
    "    MRC = V * w.T\n",
    "    # Risk Contribution\n",
    "    RC = np.multiply(MRC, w.T) / sigma\n",
    "    return RC\n",
    "\n",
    "\n",
    "def risk_budget_objective(x, pars):\n",
    "    # calculate portfolio risk\n",
    "    V = pars[0]  # covariance table\n",
    "    x_t = pars[1]  # risk target in percent of portfolio risk\n",
    "    sig_p = np.sqrt(calculate_portfolio_var(x, V))  # portfolio sigma\n",
    "    risk_target = np.asmatrix(np.multiply(sig_p, x_t))\n",
    "    asset_RC = calculate_risk_contribution(x, V)\n",
    "    J = sum(np.square(asset_RC - risk_target.T))[0, 0]  # sum of squared error\n",
    "    return J\n",
    "\n",
    "\n",
    "def total_weight_constraint(x):\n",
    "    return np.sum(x) - 1.0\n",
    "\n",
    "\n",
    "def long_only_constraint(x):\n",
    "    return x\n",
    "\n",
    "\n",
    "cons = (\n",
    "    {\"type\": \"eq\", \"fun\": total_weight_constraint},\n",
    "    {\"type\": \"ineq\", \"fun\": long_only_constraint},\n",
    ")\n",
    "res = minimize(\n",
    "    risk_budget_objective,\n",
    "    w0,\n",
    "    args=[cov.values.tolist(), x_t],\n",
    "    method=\"SLSQP\",\n",
    "    constraints=cons,\n",
    "    options={\"disp\": True},\n",
    "    tol=1e-20,\n",
    ")\n",
    "w_rb = np.asmatrix(res.x)\n",
    "w_rb"
   ]
  },
  {
   "cell_type": "code",
   "execution_count": null,
   "metadata": {},
   "outputs": [],
   "source": [
    "_calculate_portfolio_var(w_clip, cov) - calculate_portfolio_var(w_clip.values, cov.values)"
   ]
  },
  {
   "cell_type": "code",
   "execution_count": null,
   "metadata": {},
   "outputs": [],
   "source": [
    "_calculate_risk_contribution(w_clip, cov)\n",
    "# calculate_risk_contribution(w_clip.values, cov.values).tolist()"
   ]
  },
  {
   "cell_type": "code",
   "execution_count": null,
   "metadata": {},
   "outputs": [],
   "source": [
    "x = w_clip\n",
    "V = cov\n",
    "sig_p = np.sqrt(calculate_portfolio_var(w_clip.values, cov.values))  # portfolio sigma\n",
    "risk_target = np.asmatrix(np.multiply(sig_p, [1/4]*4))\n",
    "risk_target"
   ]
  },
  {
   "cell_type": "code",
   "execution_count": null,
   "metadata": {},
   "outputs": [],
   "source": [
    "var = _calculate_portfolio_var(w_clip, cov)\n",
    "rc_t = var * pd.Series([1 / 4] * 4)\n",
    "rc_t"
   ]
  }
 ],
 "metadata": {
  "kernelspec": {
   "display_name": "bwgi",
   "language": "python",
   "name": "python3"
  },
  "language_info": {
   "codemirror_mode": {
    "name": "ipython",
    "version": 3
   },
   "file_extension": ".py",
   "mimetype": "text/x-python",
   "name": "python",
   "nbconvert_exporter": "python",
   "pygments_lexer": "ipython3",
   "version": "3.9.19"
  }
 },
 "nbformat": 4,
 "nbformat_minor": 2
}
