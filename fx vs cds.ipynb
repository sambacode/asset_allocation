{
 "cells": [
  {
   "cell_type": "code",
   "execution_count": 28,
   "metadata": {},
   "outputs": [],
   "source": [
    "import pandas as pd\n",
    "import numpy as np\n",
    "\n",
    "from run_backtest import load_trackers\n",
    "from utils import clean_stale_prices\n",
    "\n",
    "from entities import EM_CDS_TRACKER_DICT, FX_TRACKER_DICT\n",
    "import numpy as np\n",
    "import pandas as pd\n",
    "from sklearn.decomposition import PCA\n",
    "import matplotlib.pyplot as plt"
   ]
  },
  {
   "cell_type": "code",
   "execution_count": 44,
   "metadata": {},
   "outputs": [],
   "source": [
    "cds = load_trackers(EM_CDS_TRACKER_DICT).rename(columns=lambda col: col + \"_cds\")\n",
    "fx = load_trackers(FX_TRACKER_DICT).rename(columns=lambda col: col + \"_fx\")\n",
    "\n",
    "cds = pd.concat([clean_stale_prices(cds[col].copy()) for col in cds], axis=1)\n",
    "fx = pd.concat([clean_stale_prices(fx[col].copy()) for col in fx], axis=1)"
   ]
  },
  {
   "cell_type": "code",
   "execution_count": 148,
   "metadata": {},
   "outputs": [],
   "source": [
    "RETURN_WINDOW = 21\n",
    "\n",
    "df_cds = (\n",
    "    np.log(cds)\n",
    "    .fillna(method=\"ffill\", limit=5)\n",
    "    .diff(RETURN_WINDOW)\n",
    "    .dropna(how=\"all\")\n",
    "    .copy()\n",
    ")\n",
    "df_cds = df_cds.loc[\"2009-12-10\":].dropna(how=\"any\", axis=1)\n",
    "df_cds = (df_cds - df_cds.mean())/ df_cds.std()\n",
    "# df_cds.isna().sum(axis=1).plot()\n",
    "# plt.title(\"Number of missing values - CDS\")\n",
    "df_fx = (\n",
    "    np.log(fx)\n",
    "    .fillna(method=\"ffill\", limit=5)\n",
    "    .diff(RETURN_WINDOW)\n",
    "    .dropna(how=\"all\")\n",
    "    .copy()\n",
    ")\n",
    "df_fx = df_fx.loc[\"2004-08-02\":].dropna(how=\"any\", axis=1)\n",
    "df_fx = (df_fx - df_fx.mean()) / df_fx.std()\n",
    "# df_fx.isna().sum(axis=1).plot()\n",
    "# plt.title(\"Number of missing values - CDS\")\n",
    "\n",
    "new_index = df_fx.dropna().index.intersection(df_cds.dropna().index)\n",
    "df_fx = df_fx.reindex(new_index)\n",
    "df_cds = df_cds.reindex(new_index)"
   ]
  },
  {
   "cell_type": "code",
   "execution_count": null,
   "metadata": {},
   "outputs": [],
   "source": [
    "pca_cds_fx = PCA(n_components=10).fit(pd.concat([df_cds, df_fx], axis=1).dropna())\n",
    "explained_variance_ratio = pca_cds_fx.explained_variance_ratio_\n",
    "cumulative_explained_variance = np.cumsum(explained_variance_ratio)\n",
    "\n",
    "# Step 4: Plot the explained variance\n",
    "plt.figure(figsize=(10, 6))\n",
    "plt.bar(\n",
    "    range(1, len(explained_variance_ratio) + 1),\n",
    "    explained_variance_ratio,\n",
    "    alpha=0.5,\n",
    "    align=\"center\",\n",
    "    label=\"Individual Explained Variance\",\n",
    ")\n",
    "# plt.step(\n",
    "#     range(1, len(cumulative_explained_variance) + 1),\n",
    "#     cumulative_explained_variance,\n",
    "#     where=\"mid\",\n",
    "#     label=\"Cumulative Explained Variance\",\n",
    "# )\n",
    "plt.xlabel(\"Principal Components\")\n",
    "plt.ylabel(\"Explained Variance Ratio\")\n",
    "plt.title(\"Explained Variance by Principal Components (CDS + FX Data)\")\n",
    "plt.legend(loc=\"best\")\n",
    "plt.grid(True)\n",
    "plt.show()"
   ]
  },
  {
   "cell_type": "code",
   "execution_count": null,
   "metadata": {},
   "outputs": [],
   "source": [
    "pca_cds = PCA(n_components=10).fit(df_cds.dropna())\n",
    "explained_variance_ratio = pca_cds.explained_variance_ratio_\n",
    "cumulative_explained_variance = np.cumsum(explained_variance_ratio)\n",
    "\n",
    "# Step 4: Plot the explained variance\n",
    "plt.figure(figsize=(10, 6))\n",
    "plt.bar(\n",
    "    range(1, len(explained_variance_ratio) + 1),\n",
    "    explained_variance_ratio,\n",
    "    alpha=0.5,\n",
    "    align=\"center\",\n",
    "    label=\"Individual Explained Variance\",\n",
    ")\n",
    "# plt.step(\n",
    "#     range(1, len(cumulative_explained_variance) + 1),\n",
    "#     cumulative_explained_variance,\n",
    "#     where=\"mid\",\n",
    "#     label=\"Cumulative Explained Variance\",\n",
    "# )\n",
    "plt.xlabel(\"Principal Components\")\n",
    "plt.ylabel(\"Explained Variance Ratio\")\n",
    "plt.title(\"Explained Variance by Principal Components (CDS Data)\")\n",
    "plt.legend(loc=\"best\")\n",
    "plt.grid(True)\n",
    "plt.show()"
   ]
  },
  {
   "cell_type": "code",
   "execution_count": null,
   "metadata": {},
   "outputs": [],
   "source": [
    "pca_fx = PCA(n_components=10).fit(df_fx.dropna())\n",
    "explained_variance_ratio = pca_fx.explained_variance_ratio_\n",
    "cumulative_explained_variance = np.cumsum(explained_variance_ratio)\n",
    "\n",
    "# Step 4: Plot the explained variance\n",
    "plt.figure(figsize=(10, 6))\n",
    "plt.bar(\n",
    "    range(1, len(explained_variance_ratio) + 1),\n",
    "    explained_variance_ratio,\n",
    "    alpha=0.5,\n",
    "    align=\"center\",\n",
    "    label=\"Individual Explained Variance\",\n",
    ")\n",
    "# plt.step(\n",
    "#     range(1, len(cumulative_explained_variance) + 1),\n",
    "#     cumulative_explained_variance,\n",
    "#     where=\"mid\",\n",
    "#     label=\"Cumulative Explained Variance\",\n",
    "# )\n",
    "plt.xlabel(\"Principal Components\")\n",
    "plt.ylabel(\"Explained Variance Ratio\")\n",
    "plt.title(\"Explained Variance by Principal Components (FX Data)\")\n",
    "plt.legend(loc=\"best\")\n",
    "plt.grid(True)\n",
    "plt.show()"
   ]
  },
  {
   "cell_type": "code",
   "execution_count": null,
   "metadata": {},
   "outputs": [],
   "source": [
    "pca_1_cds.corr(pca_1_fx)"
   ]
  },
  {
   "cell_type": "code",
   "execution_count": null,
   "metadata": {},
   "outputs": [],
   "source": [
    "pca_1_fx = pd.DataFrame(pca_fx.fit_transform(df_fx), index=new_index).iloc[:, 0]\n",
    "pca_1_cds = pd.DataFrame(pca_cds.fit_transform(df_cds), index=new_index).iloc[:, 0]\n",
    "\n",
    "pca_1_cds.rolling(window=252).corr(pca_1_fx).plot()\n",
    "plt.axhline(pca_1_cds.corr(pca_1_fx), color=\"r\", linestyle=\"--\")\n",
    "plt.ylim(0, 1)"
   ]
  },
  {
   "cell_type": "code",
   "execution_count": 155,
   "metadata": {},
   "outputs": [
    {
     "name": "stdout",
     "output_type": "stream",
     "text": [
      "R²: 0.5335460184508206\n"
     ]
    }
   ],
   "source": [
    "from scipy import stats\n",
    "# Perform linear regression\n",
    "slope, intercept, r_value, p_value, std_err = stats.linregress(pca_1_cds, pca_1_fx)\n",
    "\n",
    "# r_value is the correlation coefficient, so R² is r_value squared\n",
    "r_squared = r_value**2\n",
    "\n",
    "print(f\"R²: {r_squared}\")"
   ]
  },
  {
   "cell_type": "code",
   "execution_count": null,
   "metadata": {},
   "outputs": [],
   "source": [
    "plt.figure(figsize=(10, 6))\n",
    "plt.scatter(pca_1_cds, pca_1_fx.reindex(pca_1_cds.index))\n",
    "plt.title(\"Scatter plot of Expanding Correlation between PCA1 CDS and PCA1 FX\")\n",
    "plt.xlabel(\"Date\")\n",
    "plt.ylabel(\"Expanding Correlation\")\n",
    "plt.grid(True)\n",
    "plt.xticks(rotation=45)\n",
    "plt.tight_layout()\n",
    "plt.show()"
   ]
  }
 ],
 "metadata": {
  "kernelspec": {
   "display_name": "bwgi",
   "language": "python",
   "name": "python3"
  },
  "language_info": {
   "codemirror_mode": {
    "name": "ipython",
    "version": 3
   },
   "file_extension": ".py",
   "mimetype": "text/x-python",
   "name": "python",
   "nbconvert_exporter": "python",
   "pygments_lexer": "ipython3",
   "version": "3.9.19"
  }
 },
 "nbformat": 4,
 "nbformat_minor": 2
}
